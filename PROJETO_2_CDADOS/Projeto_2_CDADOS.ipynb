{
 "cells": [
  {
   "cell_type": "markdown",
   "metadata": {},
   "source": [
    "# Projeto 2 - Ciência dos Dados \n",
    "\n",
    "### Participantes:\n",
    "\n",
    "- Bernardo Cunha Capoferri\n",
    "\n",
    "- Francisco Pinheiro Janela\n",
    "\n",
    "- Henrique Martinelli Frezzatti\n",
    "\n",
    "- Lívia Sayuri Makuta\n",
    "\n",
    "\n",
    "\n",
    "## Objetivo:\n",
    "\n",
    "No Projeto 2 a equipe escolheu analisar músicas que estão ou foram do Top 100 da Billboard e classificá-las no gênero RAP (target), por meio de características atribuidas à música analisada (features). Para isso vamos usar alguns classificadores de modelos diferentes, como a  `Decision Tree` ('Árvore de decisão'), `Random Forest`('Árvores aleatórias') e `Logistic Regression` ('Regressão Logística') e responder a seguinte pergunta: 'Qual dos classificadores demonstrou melhor performance na classifcação?'. E, para alcançar nosso objetivo, primeiro iremos treinar nossos classificadores com uma base de dados de treinamento que possui músicas e suas características e que já foram da Top 100 semanal da Billboard, e por fim, utilizar esses classificadores já treinados na base de dados de teste, para saber de fato o desempenho desses classificadores. Lembrando que o `DataSet` escolhido provém da plataforma de músicas `Spotify`."
   ]
  },
  {
   "cell_type": "markdown",
   "metadata": {},
   "source": [
    "Carregando algumas bibliotecas que serão usadas no Projeto:"
   ]
  },
  {
   "cell_type": "code",
   "execution_count": 1,
   "metadata": {},
   "outputs": [],
   "source": [
    "%matplotlib inline\n",
    "import pandas as pd\n",
    "import matplotlib.pyplot as plt\n",
    "import numpy as np\n",
    "from sklearn.model_selection import train_test_split\n",
    "import os\n",
    "import re\n",
    "from sklearn.ensemble import RandomForestClassifier\n",
    "from sklearn.linear_model import LogisticRegression\n",
    "from sklearn import tree\n",
    "from sklearn.metrics import confusion_matrix"
   ]
  },
  {
   "cell_type": "markdown",
   "metadata": {},
   "source": [
    "Para começar a análise, vamos carregar o DataSet escolhido:"
   ]
  },
  {
   "cell_type": "code",
   "execution_count": 2,
   "metadata": {},
   "outputs": [
    {
     "name": "stdout",
     "output_type": "stream",
     "text": [
      "DataSet ok!\n"
     ]
    },
    {
     "data": {
      "text/html": [
       "<div>\n",
       "<style scoped>\n",
       "    .dataframe tbody tr th:only-of-type {\n",
       "        vertical-align: middle;\n",
       "    }\n",
       "\n",
       "    .dataframe tbody tr th {\n",
       "        vertical-align: top;\n",
       "    }\n",
       "\n",
       "    .dataframe thead th {\n",
       "        text-align: right;\n",
       "    }\n",
       "</style>\n",
       "<table border=\"1\" class=\"dataframe\">\n",
       "  <thead>\n",
       "    <tr style=\"text-align: right;\">\n",
       "      <th></th>\n",
       "      <th>SongID</th>\n",
       "      <th>Performer</th>\n",
       "      <th>Song</th>\n",
       "      <th>spotify_genre</th>\n",
       "      <th>spotify_track_id</th>\n",
       "      <th>spotify_track_preview_url</th>\n",
       "      <th>spotify_track_album</th>\n",
       "      <th>spotify_track_explicit</th>\n",
       "      <th>spotify_track_duration_ms</th>\n",
       "      <th>spotify_track_popularity</th>\n",
       "      <th>...</th>\n",
       "      <th>key</th>\n",
       "      <th>loudness</th>\n",
       "      <th>mode</th>\n",
       "      <th>speechiness</th>\n",
       "      <th>acousticness</th>\n",
       "      <th>instrumentalness</th>\n",
       "      <th>liveness</th>\n",
       "      <th>valence</th>\n",
       "      <th>tempo</th>\n",
       "      <th>time_signature</th>\n",
       "    </tr>\n",
       "  </thead>\n",
       "  <tbody>\n",
       "    <tr>\n",
       "      <th>0</th>\n",
       "      <td>AdictoTainy, Anuel AA &amp; Ozuna</td>\n",
       "      <td>Tainy, Anuel AA &amp; Ozuna</td>\n",
       "      <td>Adicto</td>\n",
       "      <td>['pop reggaeton']</td>\n",
       "      <td>3jbT1Y5MoPwEIpZndDDwVq</td>\n",
       "      <td>NaN</td>\n",
       "      <td>Adicto (with Anuel AA &amp; Ozuna)</td>\n",
       "      <td>0.0</td>\n",
       "      <td>270740.0</td>\n",
       "      <td>91.0</td>\n",
       "      <td>...</td>\n",
       "      <td>10.0</td>\n",
       "      <td>-4.803</td>\n",
       "      <td>0.0</td>\n",
       "      <td>0.0735</td>\n",
       "      <td>0.01700</td>\n",
       "      <td>0.000016</td>\n",
       "      <td>0.1790</td>\n",
       "      <td>0.623</td>\n",
       "      <td>80.002</td>\n",
       "      <td>4.0</td>\n",
       "    </tr>\n",
       "    <tr>\n",
       "      <th>1</th>\n",
       "      <td>The Ones That Didn't Make It Back HomeJustin M...</td>\n",
       "      <td>Justin Moore</td>\n",
       "      <td>The Ones That Didn't Make It Back Home</td>\n",
       "      <td>['arkansas country', 'contemporary country', '...</td>\n",
       "      <td>NaN</td>\n",
       "      <td>NaN</td>\n",
       "      <td>NaN</td>\n",
       "      <td>NaN</td>\n",
       "      <td>NaN</td>\n",
       "      <td>NaN</td>\n",
       "      <td>...</td>\n",
       "      <td>NaN</td>\n",
       "      <td>NaN</td>\n",
       "      <td>NaN</td>\n",
       "      <td>NaN</td>\n",
       "      <td>NaN</td>\n",
       "      <td>NaN</td>\n",
       "      <td>NaN</td>\n",
       "      <td>NaN</td>\n",
       "      <td>NaN</td>\n",
       "      <td>NaN</td>\n",
       "    </tr>\n",
       "    <tr>\n",
       "      <th>2</th>\n",
       "      <td>ShallowLady Gaga &amp; Bradley Cooper</td>\n",
       "      <td>Lady Gaga &amp; Bradley Cooper</td>\n",
       "      <td>Shallow</td>\n",
       "      <td>['dance pop', 'pop']</td>\n",
       "      <td>2VxeLyX666F8uXCJ0dZF8B</td>\n",
       "      <td>NaN</td>\n",
       "      <td>A Star Is Born Soundtrack</td>\n",
       "      <td>0.0</td>\n",
       "      <td>215733.0</td>\n",
       "      <td>88.0</td>\n",
       "      <td>...</td>\n",
       "      <td>7.0</td>\n",
       "      <td>-6.362</td>\n",
       "      <td>1.0</td>\n",
       "      <td>0.0308</td>\n",
       "      <td>0.37100</td>\n",
       "      <td>0.000000</td>\n",
       "      <td>0.2310</td>\n",
       "      <td>0.323</td>\n",
       "      <td>95.799</td>\n",
       "      <td>4.0</td>\n",
       "    </tr>\n",
       "    <tr>\n",
       "      <th>3</th>\n",
       "      <td>EnemiesPost Malone Featuring DaBaby</td>\n",
       "      <td>Post Malone Featuring DaBaby</td>\n",
       "      <td>Enemies</td>\n",
       "      <td>['dfw rap', 'melodic rap', 'rap']</td>\n",
       "      <td>0Xek5rqai2jcOWCYWJfVCF</td>\n",
       "      <td>NaN</td>\n",
       "      <td>Hollywood's Bleeding</td>\n",
       "      <td>1.0</td>\n",
       "      <td>196760.0</td>\n",
       "      <td>86.0</td>\n",
       "      <td>...</td>\n",
       "      <td>6.0</td>\n",
       "      <td>-4.169</td>\n",
       "      <td>1.0</td>\n",
       "      <td>0.2100</td>\n",
       "      <td>0.05880</td>\n",
       "      <td>0.000000</td>\n",
       "      <td>0.0955</td>\n",
       "      <td>0.667</td>\n",
       "      <td>76.388</td>\n",
       "      <td>4.0</td>\n",
       "    </tr>\n",
       "    <tr>\n",
       "      <th>4</th>\n",
       "      <td>Bacc At It AgainYella Beezy, Gucci Mane &amp; Quavo</td>\n",
       "      <td>Yella Beezy, Gucci Mane &amp; Quavo</td>\n",
       "      <td>Bacc At It Again</td>\n",
       "      <td>['dfw rap', 'rap', 'southern hip hop', 'trap']</td>\n",
       "      <td>2biNa12dMbHJrHVFRt8JyO</td>\n",
       "      <td>https://p.scdn.co/mp3-preview/fa6fa6f6f363be29...</td>\n",
       "      <td>Bacc At It Again</td>\n",
       "      <td>1.0</td>\n",
       "      <td>228185.0</td>\n",
       "      <td>61.0</td>\n",
       "      <td>...</td>\n",
       "      <td>8.0</td>\n",
       "      <td>-5.725</td>\n",
       "      <td>0.0</td>\n",
       "      <td>0.1680</td>\n",
       "      <td>0.00124</td>\n",
       "      <td>0.000001</td>\n",
       "      <td>0.0716</td>\n",
       "      <td>0.856</td>\n",
       "      <td>135.979</td>\n",
       "      <td>4.0</td>\n",
       "    </tr>\n",
       "  </tbody>\n",
       "</table>\n",
       "<p>5 rows × 22 columns</p>\n",
       "</div>"
      ],
      "text/plain": [
       "                                              SongID  \\\n",
       "0                      AdictoTainy, Anuel AA & Ozuna   \n",
       "1  The Ones That Didn't Make It Back HomeJustin M...   \n",
       "2                  ShallowLady Gaga & Bradley Cooper   \n",
       "3                EnemiesPost Malone Featuring DaBaby   \n",
       "4    Bacc At It AgainYella Beezy, Gucci Mane & Quavo   \n",
       "\n",
       "                         Performer                                    Song  \\\n",
       "0          Tainy, Anuel AA & Ozuna                                  Adicto   \n",
       "1                     Justin Moore  The Ones That Didn't Make It Back Home   \n",
       "2       Lady Gaga & Bradley Cooper                                 Shallow   \n",
       "3     Post Malone Featuring DaBaby                                 Enemies   \n",
       "4  Yella Beezy, Gucci Mane & Quavo                        Bacc At It Again   \n",
       "\n",
       "                                       spotify_genre        spotify_track_id  \\\n",
       "0                                  ['pop reggaeton']  3jbT1Y5MoPwEIpZndDDwVq   \n",
       "1  ['arkansas country', 'contemporary country', '...                     NaN   \n",
       "2                               ['dance pop', 'pop']  2VxeLyX666F8uXCJ0dZF8B   \n",
       "3                  ['dfw rap', 'melodic rap', 'rap']  0Xek5rqai2jcOWCYWJfVCF   \n",
       "4     ['dfw rap', 'rap', 'southern hip hop', 'trap']  2biNa12dMbHJrHVFRt8JyO   \n",
       "\n",
       "                           spotify_track_preview_url  \\\n",
       "0                                                NaN   \n",
       "1                                                NaN   \n",
       "2                                                NaN   \n",
       "3                                                NaN   \n",
       "4  https://p.scdn.co/mp3-preview/fa6fa6f6f363be29...   \n",
       "\n",
       "              spotify_track_album  spotify_track_explicit  \\\n",
       "0  Adicto (with Anuel AA & Ozuna)                     0.0   \n",
       "1                             NaN                     NaN   \n",
       "2       A Star Is Born Soundtrack                     0.0   \n",
       "3            Hollywood's Bleeding                     1.0   \n",
       "4                Bacc At It Again                     1.0   \n",
       "\n",
       "   spotify_track_duration_ms  spotify_track_popularity  ...   key  loudness  \\\n",
       "0                   270740.0                      91.0  ...  10.0    -4.803   \n",
       "1                        NaN                       NaN  ...   NaN       NaN   \n",
       "2                   215733.0                      88.0  ...   7.0    -6.362   \n",
       "3                   196760.0                      86.0  ...   6.0    -4.169   \n",
       "4                   228185.0                      61.0  ...   8.0    -5.725   \n",
       "\n",
       "   mode  speechiness  acousticness  instrumentalness  liveness  valence  \\\n",
       "0   0.0       0.0735       0.01700          0.000016    0.1790    0.623   \n",
       "1   NaN          NaN           NaN               NaN       NaN      NaN   \n",
       "2   1.0       0.0308       0.37100          0.000000    0.2310    0.323   \n",
       "3   1.0       0.2100       0.05880          0.000000    0.0955    0.667   \n",
       "4   0.0       0.1680       0.00124          0.000001    0.0716    0.856   \n",
       "\n",
       "     tempo  time_signature  \n",
       "0   80.002             4.0  \n",
       "1      NaN             NaN  \n",
       "2   95.799             4.0  \n",
       "3   76.388             4.0  \n",
       "4  135.979             4.0  \n",
       "\n",
       "[5 rows x 22 columns]"
      ]
     },
     "execution_count": 2,
     "metadata": {},
     "output_type": "execute_result"
    }
   ],
   "source": [
    "filename = 'Hot_100_Audio_Features_completo.xlsx'\n",
    "if filename in os.listdir():\n",
    "    print(\"DataSet ok!\")\n",
    "else:\n",
    "    print(\"Problema no Loading...\")\n",
    "    \n",
    "DataFrame = pd.read_excel(filename)\n",
    "DataFrame.head()"
   ]
  },
  {
   "cell_type": "markdown",
   "metadata": {},
   "source": [
    "## 1) Limpeza e Manipulação dos dados:\n",
    "\n",
    "### [1.1a] Limpeza:\n",
    "\n",
    "Vamos começar tirando as colunas que não interferem na classificação e depois excluir as linhas que não possuem informação."
   ]
  },
  {
   "cell_type": "code",
   "execution_count": 3,
   "metadata": {},
   "outputs": [
    {
     "data": {
      "text/html": [
       "<div>\n",
       "<style scoped>\n",
       "    .dataframe tbody tr th:only-of-type {\n",
       "        vertical-align: middle;\n",
       "    }\n",
       "\n",
       "    .dataframe tbody tr th {\n",
       "        vertical-align: top;\n",
       "    }\n",
       "\n",
       "    .dataframe thead th {\n",
       "        text-align: right;\n",
       "    }\n",
       "</style>\n",
       "<table border=\"1\" class=\"dataframe\">\n",
       "  <thead>\n",
       "    <tr style=\"text-align: right;\">\n",
       "      <th></th>\n",
       "      <th>spotify_genre</th>\n",
       "      <th>loudness</th>\n",
       "      <th>spotify_track_popularity</th>\n",
       "      <th>spotify_track_duration_ms</th>\n",
       "      <th>spotify_track_explicit</th>\n",
       "      <th>danceability</th>\n",
       "      <th>mode</th>\n",
       "      <th>speechiness</th>\n",
       "      <th>energy</th>\n",
       "      <th>instrumentalness</th>\n",
       "      <th>acousticness</th>\n",
       "      <th>liveness</th>\n",
       "      <th>valence</th>\n",
       "    </tr>\n",
       "  </thead>\n",
       "  <tbody>\n",
       "    <tr>\n",
       "      <th>0</th>\n",
       "      <td>['pop reggaeton']</td>\n",
       "      <td>-4.803</td>\n",
       "      <td>91.0</td>\n",
       "      <td>270740.0</td>\n",
       "      <td>0.0</td>\n",
       "      <td>0.734</td>\n",
       "      <td>0.0</td>\n",
       "      <td>0.0735</td>\n",
       "      <td>0.836</td>\n",
       "      <td>0.000016</td>\n",
       "      <td>0.01700</td>\n",
       "      <td>0.1790</td>\n",
       "      <td>0.623</td>\n",
       "    </tr>\n",
       "    <tr>\n",
       "      <th>2</th>\n",
       "      <td>['dance pop', 'pop']</td>\n",
       "      <td>-6.362</td>\n",
       "      <td>88.0</td>\n",
       "      <td>215733.0</td>\n",
       "      <td>0.0</td>\n",
       "      <td>0.572</td>\n",
       "      <td>1.0</td>\n",
       "      <td>0.0308</td>\n",
       "      <td>0.385</td>\n",
       "      <td>0.000000</td>\n",
       "      <td>0.37100</td>\n",
       "      <td>0.2310</td>\n",
       "      <td>0.323</td>\n",
       "    </tr>\n",
       "    <tr>\n",
       "      <th>3</th>\n",
       "      <td>['dfw rap', 'melodic rap', 'rap']</td>\n",
       "      <td>-4.169</td>\n",
       "      <td>86.0</td>\n",
       "      <td>196760.0</td>\n",
       "      <td>1.0</td>\n",
       "      <td>0.542</td>\n",
       "      <td>1.0</td>\n",
       "      <td>0.2100</td>\n",
       "      <td>0.674</td>\n",
       "      <td>0.000000</td>\n",
       "      <td>0.05880</td>\n",
       "      <td>0.0955</td>\n",
       "      <td>0.667</td>\n",
       "    </tr>\n",
       "    <tr>\n",
       "      <th>4</th>\n",
       "      <td>['dfw rap', 'rap', 'southern hip hop', 'trap']</td>\n",
       "      <td>-5.725</td>\n",
       "      <td>61.0</td>\n",
       "      <td>228185.0</td>\n",
       "      <td>1.0</td>\n",
       "      <td>0.948</td>\n",
       "      <td>0.0</td>\n",
       "      <td>0.1680</td>\n",
       "      <td>0.623</td>\n",
       "      <td>0.000001</td>\n",
       "      <td>0.00124</td>\n",
       "      <td>0.0716</td>\n",
       "      <td>0.856</td>\n",
       "    </tr>\n",
       "    <tr>\n",
       "      <th>5</th>\n",
       "      <td>['dance pop', 'pop', 'post-teen pop']</td>\n",
       "      <td>-9.375</td>\n",
       "      <td>76.0</td>\n",
       "      <td>211240.0</td>\n",
       "      <td>0.0</td>\n",
       "      <td>0.292</td>\n",
       "      <td>1.0</td>\n",
       "      <td>0.0401</td>\n",
       "      <td>0.574</td>\n",
       "      <td>0.005690</td>\n",
       "      <td>0.12000</td>\n",
       "      <td>0.0663</td>\n",
       "      <td>0.166</td>\n",
       "    </tr>\n",
       "  </tbody>\n",
       "</table>\n",
       "</div>"
      ],
      "text/plain": [
       "                                    spotify_genre  loudness  \\\n",
       "0                               ['pop reggaeton']    -4.803   \n",
       "2                            ['dance pop', 'pop']    -6.362   \n",
       "3               ['dfw rap', 'melodic rap', 'rap']    -4.169   \n",
       "4  ['dfw rap', 'rap', 'southern hip hop', 'trap']    -5.725   \n",
       "5           ['dance pop', 'pop', 'post-teen pop']    -9.375   \n",
       "\n",
       "   spotify_track_popularity  spotify_track_duration_ms  \\\n",
       "0                      91.0                   270740.0   \n",
       "2                      88.0                   215733.0   \n",
       "3                      86.0                   196760.0   \n",
       "4                      61.0                   228185.0   \n",
       "5                      76.0                   211240.0   \n",
       "\n",
       "   spotify_track_explicit  danceability  mode  speechiness  energy  \\\n",
       "0                     0.0         0.734   0.0       0.0735   0.836   \n",
       "2                     0.0         0.572   1.0       0.0308   0.385   \n",
       "3                     1.0         0.542   1.0       0.2100   0.674   \n",
       "4                     1.0         0.948   0.0       0.1680   0.623   \n",
       "5                     0.0         0.292   1.0       0.0401   0.574   \n",
       "\n",
       "   instrumentalness  acousticness  liveness  valence  \n",
       "0          0.000016       0.01700    0.1790    0.623  \n",
       "2          0.000000       0.37100    0.2310    0.323  \n",
       "3          0.000000       0.05880    0.0955    0.667  \n",
       "4          0.000001       0.00124    0.0716    0.856  \n",
       "5          0.005690       0.12000    0.0663    0.166  "
      ]
     },
     "execution_count": 3,
     "metadata": {},
     "output_type": "execute_result"
    }
   ],
   "source": [
    "#=================================================== Colunas desejadas ========================================================\n",
    "# escolhemos as colunas que importam para a classificação\n",
    "DataFrame = DataFrame.loc[:,['spotify_genre','loudness','spotify_track_popularity','spotify_track_duration_ms',\n",
    "                             'spotify_track_explicit','danceability','mode','speechiness','energy','instrumentalness',\n",
    "                             'acousticness','liveness','valence']]\n",
    "\n",
    "#==================================================== Excluindo linhas ========================================================\n",
    "# a função exclui as linhas que possuem células sem informação (NaN)\n",
    "DataFrame = DataFrame.dropna()\n",
    "\n",
    "DataFrame.head()  #debug"
   ]
  },
  {
   "cell_type": "markdown",
   "metadata": {},
   "source": [
    "Com as colunas restantes, temos as seguintes variáveis e suas descrições:"
   ]
  },
  {
   "cell_type": "markdown",
   "metadata": {},
   "source": [
    "* spotify_genre: gênero da música na plataforma 'Spotify'.\n",
    "* loudness: o volume geral de uma faixa em decibéis (dB). Os valores típicos variam entre -60 e 0 dB. \n",
    "* spotify_track_popularity: a popularidade da faixa. Esse valor está entre 0 e 100, sendo 100 o mais popular.\n",
    "* spotify_track_duration_ms: a duração da faixa musical em milisegundos.\n",
    "* spotify_track_explicit: se a faixa tem ou não letras explícitas (verdadeiro = 1, tem; falso = 0, não OU desconhecido). \n",
    "* danceability: descreve o quanto uma faixa é adequada para dançar com base em uma combinação de elementos musicais. Um valor de 0.0 é menos dançante, e 1.0 é o mais dançante.\n",
    "* mode: indica a modalidade ou o tipo de escala de uma faixa musical, sendo maior ou menor. Maior é representado por 1 e menor é 0.\n",
    "* speechiness: detecta a presença de palavras faladas em uma faixa. Quanto mais exclusivamente falada for a gravação, mais próximo de 1.0 será seu valor. Valores acima de 0,66 descrevem faixas que provavelmente são compostas inteiramente de palavras faladas. Valores entre 0.33 e 0.66 descrevem faixas que podem conter música e fala, em seções ou em camadas, incluindo casos como música rap. Valores abaixo de 0.33 provavelmente representam música e outras faixas não semelhantes à fala.\n",
    "* energy:  é uma medida que representa a intensidade e atividade de uma música, que varia entre 1.0 (uma faixa muito energética) e 0.0 (uma faixa não energética). Normalmente, as faixas energéticas parecem rápidas, altas e barulhentas. \n",
    "* instrumentalness: prevê se uma faixa não contém vocais. Quanto mais próximo o valor da instrumentalidade estiver de 1.0, maior será a probabilidade de a faixa não conter conteúdo vocal. Valores acima de 0.5 destinam-se a representar faixas instrumentais, sendo 1.0 seu valor máximo. \n",
    "* acousticness: uma medida de confiança de 0.0 a 1.0 para saber se a faixa é acústica. 1.0 representa alta confiança de que a faixa é acústica e 0.0 de que não é acústica.\n",
    "* liveness: detecta a presença de um público na gravação. Valores de vivacidade mais altos representam um aumento na probabilidade de a trilha ter sido executada ao vivo. Um valor acima de 0.8 fornece uma grande probabilidade de que a faixa tenha sido gravada ao vivo.\n",
    "* valence: uma medida de 0.0 a 1.0 que descreve a positividade musical transmitida por uma faixa. Faixas com alta valência soam mais positivas (por exemplo, feliz, alegre, eufórico), enquanto faixas com baixa valência soam mais negativas (por exemplo, triste, deprimido, irritado).\n",
    "\n"
   ]
  },
  {
   "cell_type": "markdown",
   "metadata": {},
   "source": [
    "Para mais informações de como as classificações dessas caracteristícas foram feitas, visitar o site da plataforma musical Spotify."
   ]
  },
  {
   "cell_type": "markdown",
   "metadata": {},
   "source": [
    "### [1.1b] Criando uma nova série 'classificação':"
   ]
  },
  {
   "cell_type": "markdown",
   "metadata": {},
   "source": [
    "Depois disso, como o objetivo é classificar o gênero de uma música como sendo rap ou não, é preciso filtrar a base de dados para fazer essa separação. Por isso, criamos uma nova coluna chamada 'classificação' que classifica as músicas como sendo \"Rap\" ou \"Outro\". "
   ]
  },
  {
   "cell_type": "code",
   "execution_count": 4,
   "metadata": {},
   "outputs": [
    {
     "data": {
      "text/html": [
       "<div>\n",
       "<style scoped>\n",
       "    .dataframe tbody tr th:only-of-type {\n",
       "        vertical-align: middle;\n",
       "    }\n",
       "\n",
       "    .dataframe tbody tr th {\n",
       "        vertical-align: top;\n",
       "    }\n",
       "\n",
       "    .dataframe thead th {\n",
       "        text-align: right;\n",
       "    }\n",
       "</style>\n",
       "<table border=\"1\" class=\"dataframe\">\n",
       "  <thead>\n",
       "    <tr style=\"text-align: right;\">\n",
       "      <th></th>\n",
       "      <th>spotify_genre</th>\n",
       "      <th>loudness</th>\n",
       "      <th>spotify_track_popularity</th>\n",
       "      <th>spotify_track_duration_ms</th>\n",
       "      <th>spotify_track_explicit</th>\n",
       "      <th>danceability</th>\n",
       "      <th>mode</th>\n",
       "      <th>speechiness</th>\n",
       "      <th>energy</th>\n",
       "      <th>instrumentalness</th>\n",
       "      <th>acousticness</th>\n",
       "      <th>liveness</th>\n",
       "      <th>valence</th>\n",
       "      <th>classificacao</th>\n",
       "    </tr>\n",
       "  </thead>\n",
       "  <tbody>\n",
       "    <tr>\n",
       "      <th>0</th>\n",
       "      <td>['pop reggaeton']</td>\n",
       "      <td>-4.803</td>\n",
       "      <td>91.0</td>\n",
       "      <td>270740.0</td>\n",
       "      <td>0.0</td>\n",
       "      <td>0.734</td>\n",
       "      <td>0.0</td>\n",
       "      <td>0.0735</td>\n",
       "      <td>0.836</td>\n",
       "      <td>0.000016</td>\n",
       "      <td>0.01700</td>\n",
       "      <td>0.1790</td>\n",
       "      <td>0.623</td>\n",
       "      <td>Outro</td>\n",
       "    </tr>\n",
       "    <tr>\n",
       "      <th>2</th>\n",
       "      <td>['dance pop', 'pop']</td>\n",
       "      <td>-6.362</td>\n",
       "      <td>88.0</td>\n",
       "      <td>215733.0</td>\n",
       "      <td>0.0</td>\n",
       "      <td>0.572</td>\n",
       "      <td>1.0</td>\n",
       "      <td>0.0308</td>\n",
       "      <td>0.385</td>\n",
       "      <td>0.000000</td>\n",
       "      <td>0.37100</td>\n",
       "      <td>0.2310</td>\n",
       "      <td>0.323</td>\n",
       "      <td>Outro</td>\n",
       "    </tr>\n",
       "    <tr>\n",
       "      <th>3</th>\n",
       "      <td>['dfw rap', 'melodic rap', 'rap']</td>\n",
       "      <td>-4.169</td>\n",
       "      <td>86.0</td>\n",
       "      <td>196760.0</td>\n",
       "      <td>1.0</td>\n",
       "      <td>0.542</td>\n",
       "      <td>1.0</td>\n",
       "      <td>0.2100</td>\n",
       "      <td>0.674</td>\n",
       "      <td>0.000000</td>\n",
       "      <td>0.05880</td>\n",
       "      <td>0.0955</td>\n",
       "      <td>0.667</td>\n",
       "      <td>Rap</td>\n",
       "    </tr>\n",
       "    <tr>\n",
       "      <th>4</th>\n",
       "      <td>['dfw rap', 'rap', 'southern hip hop', 'trap']</td>\n",
       "      <td>-5.725</td>\n",
       "      <td>61.0</td>\n",
       "      <td>228185.0</td>\n",
       "      <td>1.0</td>\n",
       "      <td>0.948</td>\n",
       "      <td>0.0</td>\n",
       "      <td>0.1680</td>\n",
       "      <td>0.623</td>\n",
       "      <td>0.000001</td>\n",
       "      <td>0.00124</td>\n",
       "      <td>0.0716</td>\n",
       "      <td>0.856</td>\n",
       "      <td>Rap</td>\n",
       "    </tr>\n",
       "    <tr>\n",
       "      <th>5</th>\n",
       "      <td>['dance pop', 'pop', 'post-teen pop']</td>\n",
       "      <td>-9.375</td>\n",
       "      <td>76.0</td>\n",
       "      <td>211240.0</td>\n",
       "      <td>0.0</td>\n",
       "      <td>0.292</td>\n",
       "      <td>1.0</td>\n",
       "      <td>0.0401</td>\n",
       "      <td>0.574</td>\n",
       "      <td>0.005690</td>\n",
       "      <td>0.12000</td>\n",
       "      <td>0.0663</td>\n",
       "      <td>0.166</td>\n",
       "      <td>Outro</td>\n",
       "    </tr>\n",
       "  </tbody>\n",
       "</table>\n",
       "</div>"
      ],
      "text/plain": [
       "                                    spotify_genre  loudness  \\\n",
       "0                               ['pop reggaeton']    -4.803   \n",
       "2                            ['dance pop', 'pop']    -6.362   \n",
       "3               ['dfw rap', 'melodic rap', 'rap']    -4.169   \n",
       "4  ['dfw rap', 'rap', 'southern hip hop', 'trap']    -5.725   \n",
       "5           ['dance pop', 'pop', 'post-teen pop']    -9.375   \n",
       "\n",
       "   spotify_track_popularity  spotify_track_duration_ms  \\\n",
       "0                      91.0                   270740.0   \n",
       "2                      88.0                   215733.0   \n",
       "3                      86.0                   196760.0   \n",
       "4                      61.0                   228185.0   \n",
       "5                      76.0                   211240.0   \n",
       "\n",
       "   spotify_track_explicit  danceability  mode  speechiness  energy  \\\n",
       "0                     0.0         0.734   0.0       0.0735   0.836   \n",
       "2                     0.0         0.572   1.0       0.0308   0.385   \n",
       "3                     1.0         0.542   1.0       0.2100   0.674   \n",
       "4                     1.0         0.948   0.0       0.1680   0.623   \n",
       "5                     0.0         0.292   1.0       0.0401   0.574   \n",
       "\n",
       "   instrumentalness  acousticness  liveness  valence classificacao  \n",
       "0          0.000016       0.01700    0.1790    0.623         Outro  \n",
       "2          0.000000       0.37100    0.2310    0.323         Outro  \n",
       "3          0.000000       0.05880    0.0955    0.667           Rap  \n",
       "4          0.000001       0.00124    0.0716    0.856           Rap  \n",
       "5          0.005690       0.12000    0.0663    0.166         Outro  "
      ]
     },
     "execution_count": 4,
     "metadata": {},
     "output_type": "execute_result"
    }
   ],
   "source": [
    "#filtrando o DataFrame para classificar as informações pertencendo ao gênero 'rap' ou 'outro'.\n",
    "\n",
    "DataFrame[\"classificacao\"]= DataFrame[\"spotify_genre\"].str.contains(\"rap\")\n",
    "\n",
    "\n",
    "DataFrame['classificacao'] = DataFrame['classificacao'].astype('category')\n",
    "DataFrame['classificacao'].cat.categories = ['Outro','Rap']\n",
    "\n",
    "DataFrame.head()"
   ]
  },
  {
   "cell_type": "markdown",
   "metadata": {},
   "source": [
    "### [1.2] Categorizando:\n",
    "\n",
    "Como a maioria de nossos features são numéricos, para que não haja confusão em um primeiro momento, iremos alterar os valores de '0.0' e '1.0' utilizados para classificar a explicitabilidade e a modalidade de escala musical. Sendo assim, as colunas `spotify_track_explicit` e `mode` que são categóricas, ao invés de serem expressas em números, serão expressas nominalmente com suas características. Logo, o 1.0 e 0.0 do `mode` serão expressos por 'Major'(escala maior) e 'Minor' (escala menor), respectivamente, enquanto esses mesmos números para o `spotify_track_explicit` representarão 'Explicit'(contém explicitabilidade e 'Free'(livre de explicitabilidade)."
   ]
  },
  {
   "cell_type": "code",
   "execution_count": 5,
   "metadata": {},
   "outputs": [
    {
     "data": {
      "text/html": [
       "<div>\n",
       "<style scoped>\n",
       "    .dataframe tbody tr th:only-of-type {\n",
       "        vertical-align: middle;\n",
       "    }\n",
       "\n",
       "    .dataframe tbody tr th {\n",
       "        vertical-align: top;\n",
       "    }\n",
       "\n",
       "    .dataframe thead th {\n",
       "        text-align: right;\n",
       "    }\n",
       "</style>\n",
       "<table border=\"1\" class=\"dataframe\">\n",
       "  <thead>\n",
       "    <tr style=\"text-align: right;\">\n",
       "      <th></th>\n",
       "      <th>spotify_genre</th>\n",
       "      <th>loudness</th>\n",
       "      <th>spotify_track_popularity</th>\n",
       "      <th>spotify_track_duration_ms</th>\n",
       "      <th>spotify_track_explicit</th>\n",
       "      <th>danceability</th>\n",
       "      <th>mode</th>\n",
       "      <th>speechiness</th>\n",
       "      <th>energy</th>\n",
       "      <th>instrumentalness</th>\n",
       "      <th>acousticness</th>\n",
       "      <th>liveness</th>\n",
       "      <th>valence</th>\n",
       "      <th>classificacao</th>\n",
       "    </tr>\n",
       "  </thead>\n",
       "  <tbody>\n",
       "    <tr>\n",
       "      <th>0</th>\n",
       "      <td>['pop reggaeton']</td>\n",
       "      <td>-4.803</td>\n",
       "      <td>91.0</td>\n",
       "      <td>270740.0</td>\n",
       "      <td>Free</td>\n",
       "      <td>0.734</td>\n",
       "      <td>Minor</td>\n",
       "      <td>0.0735</td>\n",
       "      <td>0.836</td>\n",
       "      <td>0.000016</td>\n",
       "      <td>0.01700</td>\n",
       "      <td>0.1790</td>\n",
       "      <td>0.623</td>\n",
       "      <td>Outro</td>\n",
       "    </tr>\n",
       "    <tr>\n",
       "      <th>2</th>\n",
       "      <td>['dance pop', 'pop']</td>\n",
       "      <td>-6.362</td>\n",
       "      <td>88.0</td>\n",
       "      <td>215733.0</td>\n",
       "      <td>Free</td>\n",
       "      <td>0.572</td>\n",
       "      <td>Major</td>\n",
       "      <td>0.0308</td>\n",
       "      <td>0.385</td>\n",
       "      <td>0.000000</td>\n",
       "      <td>0.37100</td>\n",
       "      <td>0.2310</td>\n",
       "      <td>0.323</td>\n",
       "      <td>Outro</td>\n",
       "    </tr>\n",
       "    <tr>\n",
       "      <th>3</th>\n",
       "      <td>['dfw rap', 'melodic rap', 'rap']</td>\n",
       "      <td>-4.169</td>\n",
       "      <td>86.0</td>\n",
       "      <td>196760.0</td>\n",
       "      <td>Explicit</td>\n",
       "      <td>0.542</td>\n",
       "      <td>Major</td>\n",
       "      <td>0.2100</td>\n",
       "      <td>0.674</td>\n",
       "      <td>0.000000</td>\n",
       "      <td>0.05880</td>\n",
       "      <td>0.0955</td>\n",
       "      <td>0.667</td>\n",
       "      <td>Rap</td>\n",
       "    </tr>\n",
       "    <tr>\n",
       "      <th>4</th>\n",
       "      <td>['dfw rap', 'rap', 'southern hip hop', 'trap']</td>\n",
       "      <td>-5.725</td>\n",
       "      <td>61.0</td>\n",
       "      <td>228185.0</td>\n",
       "      <td>Explicit</td>\n",
       "      <td>0.948</td>\n",
       "      <td>Minor</td>\n",
       "      <td>0.1680</td>\n",
       "      <td>0.623</td>\n",
       "      <td>0.000001</td>\n",
       "      <td>0.00124</td>\n",
       "      <td>0.0716</td>\n",
       "      <td>0.856</td>\n",
       "      <td>Rap</td>\n",
       "    </tr>\n",
       "    <tr>\n",
       "      <th>5</th>\n",
       "      <td>['dance pop', 'pop', 'post-teen pop']</td>\n",
       "      <td>-9.375</td>\n",
       "      <td>76.0</td>\n",
       "      <td>211240.0</td>\n",
       "      <td>Free</td>\n",
       "      <td>0.292</td>\n",
       "      <td>Major</td>\n",
       "      <td>0.0401</td>\n",
       "      <td>0.574</td>\n",
       "      <td>0.005690</td>\n",
       "      <td>0.12000</td>\n",
       "      <td>0.0663</td>\n",
       "      <td>0.166</td>\n",
       "      <td>Outro</td>\n",
       "    </tr>\n",
       "  </tbody>\n",
       "</table>\n",
       "</div>"
      ],
      "text/plain": [
       "                                    spotify_genre  loudness  \\\n",
       "0                               ['pop reggaeton']    -4.803   \n",
       "2                            ['dance pop', 'pop']    -6.362   \n",
       "3               ['dfw rap', 'melodic rap', 'rap']    -4.169   \n",
       "4  ['dfw rap', 'rap', 'southern hip hop', 'trap']    -5.725   \n",
       "5           ['dance pop', 'pop', 'post-teen pop']    -9.375   \n",
       "\n",
       "   spotify_track_popularity  spotify_track_duration_ms spotify_track_explicit  \\\n",
       "0                      91.0                   270740.0                   Free   \n",
       "2                      88.0                   215733.0                   Free   \n",
       "3                      86.0                   196760.0               Explicit   \n",
       "4                      61.0                   228185.0               Explicit   \n",
       "5                      76.0                   211240.0                   Free   \n",
       "\n",
       "   danceability   mode  speechiness  energy  instrumentalness  acousticness  \\\n",
       "0         0.734  Minor       0.0735   0.836          0.000016       0.01700   \n",
       "2         0.572  Major       0.0308   0.385          0.000000       0.37100   \n",
       "3         0.542  Major       0.2100   0.674          0.000000       0.05880   \n",
       "4         0.948  Minor       0.1680   0.623          0.000001       0.00124   \n",
       "5         0.292  Major       0.0401   0.574          0.005690       0.12000   \n",
       "\n",
       "   liveness  valence classificacao  \n",
       "0    0.1790    0.623         Outro  \n",
       "2    0.2310    0.323         Outro  \n",
       "3    0.0955    0.667           Rap  \n",
       "4    0.0716    0.856           Rap  \n",
       "5    0.0663    0.166         Outro  "
      ]
     },
     "execution_count": 5,
     "metadata": {},
     "output_type": "execute_result"
    }
   ],
   "source": [
    "#===================================================== Categorizando ==========================================================\n",
    "# Transformando a coluna em uma categoria\n",
    "DataFrame['spotify_track_explicit'] = DataFrame['spotify_track_explicit'].astype('category')\n",
    "DataFrame['mode'] = DataFrame['mode'].astype('category')\n",
    "\n",
    "# Trocando os valores pelas categorias correspondentes:\n",
    "DataFrame['spotify_track_explicit'].cat.categories = ['Free','Explicit']\n",
    "DataFrame['mode'].cat.categories = ['Minor','Major']\n",
    "\n",
    "DataFrame.head()  #debug"
   ]
  },
  {
   "cell_type": "markdown",
   "metadata": {},
   "source": [
    "### [1.4] Separação dos dados do DataFrame:"
   ]
  },
  {
   "cell_type": "markdown",
   "metadata": {},
   "source": [
    "Para realizar a análise exploratória inicial dos dados, separamo-nos em dois DataFrames de acordo com a sua classificação musical, isto é, se é 'rap' ou se pertence a outro gênero musical."
   ]
  },
  {
   "cell_type": "code",
   "execution_count": 6,
   "metadata": {},
   "outputs": [
    {
     "data": {
      "text/html": [
       "<div>\n",
       "<style scoped>\n",
       "    .dataframe tbody tr th:only-of-type {\n",
       "        vertical-align: middle;\n",
       "    }\n",
       "\n",
       "    .dataframe tbody tr th {\n",
       "        vertical-align: top;\n",
       "    }\n",
       "\n",
       "    .dataframe thead th {\n",
       "        text-align: right;\n",
       "    }\n",
       "</style>\n",
       "<table border=\"1\" class=\"dataframe\">\n",
       "  <thead>\n",
       "    <tr style=\"text-align: right;\">\n",
       "      <th></th>\n",
       "      <th>spotify_genre</th>\n",
       "      <th>loudness</th>\n",
       "      <th>spotify_track_popularity</th>\n",
       "      <th>spotify_track_duration_ms</th>\n",
       "      <th>spotify_track_explicit</th>\n",
       "      <th>danceability</th>\n",
       "      <th>mode</th>\n",
       "      <th>speechiness</th>\n",
       "      <th>energy</th>\n",
       "      <th>instrumentalness</th>\n",
       "      <th>acousticness</th>\n",
       "      <th>liveness</th>\n",
       "      <th>valence</th>\n",
       "      <th>classificacao</th>\n",
       "    </tr>\n",
       "  </thead>\n",
       "  <tbody>\n",
       "    <tr>\n",
       "      <th>3</th>\n",
       "      <td>['dfw rap', 'melodic rap', 'rap']</td>\n",
       "      <td>-4.169</td>\n",
       "      <td>86.0</td>\n",
       "      <td>196760.0</td>\n",
       "      <td>Explicit</td>\n",
       "      <td>0.542</td>\n",
       "      <td>Major</td>\n",
       "      <td>0.2100</td>\n",
       "      <td>0.674</td>\n",
       "      <td>0.000000</td>\n",
       "      <td>0.05880</td>\n",
       "      <td>0.0955</td>\n",
       "      <td>0.667</td>\n",
       "      <td>Rap</td>\n",
       "    </tr>\n",
       "    <tr>\n",
       "      <th>4</th>\n",
       "      <td>['dfw rap', 'rap', 'southern hip hop', 'trap']</td>\n",
       "      <td>-5.725</td>\n",
       "      <td>61.0</td>\n",
       "      <td>228185.0</td>\n",
       "      <td>Explicit</td>\n",
       "      <td>0.948</td>\n",
       "      <td>Minor</td>\n",
       "      <td>0.1680</td>\n",
       "      <td>0.623</td>\n",
       "      <td>0.000001</td>\n",
       "      <td>0.00124</td>\n",
       "      <td>0.0716</td>\n",
       "      <td>0.856</td>\n",
       "      <td>Rap</td>\n",
       "    </tr>\n",
       "    <tr>\n",
       "      <th>6</th>\n",
       "      <td>['nc hip hop', 'rap']</td>\n",
       "      <td>-2.708</td>\n",
       "      <td>88.0</td>\n",
       "      <td>144935.0</td>\n",
       "      <td>Explicit</td>\n",
       "      <td>0.768</td>\n",
       "      <td>Minor</td>\n",
       "      <td>0.3070</td>\n",
       "      <td>0.652</td>\n",
       "      <td>0.000000</td>\n",
       "      <td>0.11300</td>\n",
       "      <td>0.1070</td>\n",
       "      <td>0.777</td>\n",
       "      <td>Rap</td>\n",
       "    </tr>\n",
       "    <tr>\n",
       "      <th>7</th>\n",
       "      <td>['hip hop', 'pop rap', 'rap']</td>\n",
       "      <td>-3.985</td>\n",
       "      <td>74.0</td>\n",
       "      <td>196800.0</td>\n",
       "      <td>Free</td>\n",
       "      <td>0.817</td>\n",
       "      <td>Major</td>\n",
       "      <td>0.1850</td>\n",
       "      <td>0.814</td>\n",
       "      <td>0.000000</td>\n",
       "      <td>0.32000</td>\n",
       "      <td>0.1520</td>\n",
       "      <td>0.247</td>\n",
       "      <td>Rap</td>\n",
       "    </tr>\n",
       "    <tr>\n",
       "      <th>8</th>\n",
       "      <td>['dfw rap', 'melodic rap', 'rap']</td>\n",
       "      <td>-3.206</td>\n",
       "      <td>85.0</td>\n",
       "      <td>156266.0</td>\n",
       "      <td>Free</td>\n",
       "      <td>0.405</td>\n",
       "      <td>Minor</td>\n",
       "      <td>0.0476</td>\n",
       "      <td>0.646</td>\n",
       "      <td>0.000000</td>\n",
       "      <td>0.33100</td>\n",
       "      <td>0.1030</td>\n",
       "      <td>0.170</td>\n",
       "      <td>Rap</td>\n",
       "    </tr>\n",
       "    <tr>\n",
       "      <th>...</th>\n",
       "      <td>...</td>\n",
       "      <td>...</td>\n",
       "      <td>...</td>\n",
       "      <td>...</td>\n",
       "      <td>...</td>\n",
       "      <td>...</td>\n",
       "      <td>...</td>\n",
       "      <td>...</td>\n",
       "      <td>...</td>\n",
       "      <td>...</td>\n",
       "      <td>...</td>\n",
       "      <td>...</td>\n",
       "      <td>...</td>\n",
       "      <td>...</td>\n",
       "    </tr>\n",
       "    <tr>\n",
       "      <th>28465</th>\n",
       "      <td>['dfw rap', 'melodic rap', 'rap']</td>\n",
       "      <td>-5.198</td>\n",
       "      <td>74.0</td>\n",
       "      <td>204360.0</td>\n",
       "      <td>Explicit</td>\n",
       "      <td>0.742</td>\n",
       "      <td>Minor</td>\n",
       "      <td>0.0471</td>\n",
       "      <td>0.840</td>\n",
       "      <td>0.000000</td>\n",
       "      <td>0.14300</td>\n",
       "      <td>0.1330</td>\n",
       "      <td>0.287</td>\n",
       "      <td>Rap</td>\n",
       "    </tr>\n",
       "    <tr>\n",
       "      <th>28468</th>\n",
       "      <td>['dance pop', 'pop', 'pop rap', 'r&amp;b', 'rap']</td>\n",
       "      <td>-4.564</td>\n",
       "      <td>58.0</td>\n",
       "      <td>214600.0</td>\n",
       "      <td>Explicit</td>\n",
       "      <td>0.731</td>\n",
       "      <td>Minor</td>\n",
       "      <td>0.0638</td>\n",
       "      <td>0.818</td>\n",
       "      <td>0.000000</td>\n",
       "      <td>0.05170</td>\n",
       "      <td>0.0743</td>\n",
       "      <td>0.812</td>\n",
       "      <td>Rap</td>\n",
       "    </tr>\n",
       "    <tr>\n",
       "      <th>28469</th>\n",
       "      <td>['florida rap', 'hip hop', 'melodic rap', 'mia...</td>\n",
       "      <td>-5.788</td>\n",
       "      <td>84.0</td>\n",
       "      <td>228759.0</td>\n",
       "      <td>Explicit</td>\n",
       "      <td>0.861</td>\n",
       "      <td>Minor</td>\n",
       "      <td>0.1760</td>\n",
       "      <td>0.603</td>\n",
       "      <td>0.000000</td>\n",
       "      <td>0.05210</td>\n",
       "      <td>0.0924</td>\n",
       "      <td>0.504</td>\n",
       "      <td>Rap</td>\n",
       "    </tr>\n",
       "    <tr>\n",
       "      <th>28475</th>\n",
       "      <td>['atl hip hop', 'hip hop', 'pop rap', 'rap', '...</td>\n",
       "      <td>-7.673</td>\n",
       "      <td>51.0</td>\n",
       "      <td>278429.0</td>\n",
       "      <td>Explicit</td>\n",
       "      <td>0.852</td>\n",
       "      <td>Major</td>\n",
       "      <td>0.4260</td>\n",
       "      <td>0.438</td>\n",
       "      <td>0.000000</td>\n",
       "      <td>0.01450</td>\n",
       "      <td>0.2630</td>\n",
       "      <td>0.627</td>\n",
       "      <td>Rap</td>\n",
       "    </tr>\n",
       "    <tr>\n",
       "      <th>28489</th>\n",
       "      <td>['boy band', 'dance pop', 'hip hop', 'hip pop'...</td>\n",
       "      <td>-5.561</td>\n",
       "      <td>32.0</td>\n",
       "      <td>258026.0</td>\n",
       "      <td>Free</td>\n",
       "      <td>0.585</td>\n",
       "      <td>Minor</td>\n",
       "      <td>0.0759</td>\n",
       "      <td>0.573</td>\n",
       "      <td>0.000011</td>\n",
       "      <td>0.13300</td>\n",
       "      <td>0.1730</td>\n",
       "      <td>0.591</td>\n",
       "      <td>Rap</td>\n",
       "    </tr>\n",
       "  </tbody>\n",
       "</table>\n",
       "<p>3361 rows × 14 columns</p>\n",
       "</div>"
      ],
      "text/plain": [
       "                                           spotify_genre  loudness  \\\n",
       "3                      ['dfw rap', 'melodic rap', 'rap']    -4.169   \n",
       "4         ['dfw rap', 'rap', 'southern hip hop', 'trap']    -5.725   \n",
       "6                                  ['nc hip hop', 'rap']    -2.708   \n",
       "7                          ['hip hop', 'pop rap', 'rap']    -3.985   \n",
       "8                      ['dfw rap', 'melodic rap', 'rap']    -3.206   \n",
       "...                                                  ...       ...   \n",
       "28465                  ['dfw rap', 'melodic rap', 'rap']    -5.198   \n",
       "28468      ['dance pop', 'pop', 'pop rap', 'r&b', 'rap']    -4.564   \n",
       "28469  ['florida rap', 'hip hop', 'melodic rap', 'mia...    -5.788   \n",
       "28475  ['atl hip hop', 'hip hop', 'pop rap', 'rap', '...    -7.673   \n",
       "28489  ['boy band', 'dance pop', 'hip hop', 'hip pop'...    -5.561   \n",
       "\n",
       "       spotify_track_popularity  spotify_track_duration_ms  \\\n",
       "3                          86.0                   196760.0   \n",
       "4                          61.0                   228185.0   \n",
       "6                          88.0                   144935.0   \n",
       "7                          74.0                   196800.0   \n",
       "8                          85.0                   156266.0   \n",
       "...                         ...                        ...   \n",
       "28465                      74.0                   204360.0   \n",
       "28468                      58.0                   214600.0   \n",
       "28469                      84.0                   228759.0   \n",
       "28475                      51.0                   278429.0   \n",
       "28489                      32.0                   258026.0   \n",
       "\n",
       "      spotify_track_explicit  danceability   mode  speechiness  energy  \\\n",
       "3                   Explicit         0.542  Major       0.2100   0.674   \n",
       "4                   Explicit         0.948  Minor       0.1680   0.623   \n",
       "6                   Explicit         0.768  Minor       0.3070   0.652   \n",
       "7                       Free         0.817  Major       0.1850   0.814   \n",
       "8                       Free         0.405  Minor       0.0476   0.646   \n",
       "...                      ...           ...    ...          ...     ...   \n",
       "28465               Explicit         0.742  Minor       0.0471   0.840   \n",
       "28468               Explicit         0.731  Minor       0.0638   0.818   \n",
       "28469               Explicit         0.861  Minor       0.1760   0.603   \n",
       "28475               Explicit         0.852  Major       0.4260   0.438   \n",
       "28489                   Free         0.585  Minor       0.0759   0.573   \n",
       "\n",
       "       instrumentalness  acousticness  liveness  valence classificacao  \n",
       "3              0.000000       0.05880    0.0955    0.667           Rap  \n",
       "4              0.000001       0.00124    0.0716    0.856           Rap  \n",
       "6              0.000000       0.11300    0.1070    0.777           Rap  \n",
       "7              0.000000       0.32000    0.1520    0.247           Rap  \n",
       "8              0.000000       0.33100    0.1030    0.170           Rap  \n",
       "...                 ...           ...       ...      ...           ...  \n",
       "28465          0.000000       0.14300    0.1330    0.287           Rap  \n",
       "28468          0.000000       0.05170    0.0743    0.812           Rap  \n",
       "28469          0.000000       0.05210    0.0924    0.504           Rap  \n",
       "28475          0.000000       0.01450    0.2630    0.627           Rap  \n",
       "28489          0.000011       0.13300    0.1730    0.591           Rap  \n",
       "\n",
       "[3361 rows x 14 columns]"
      ]
     },
     "execution_count": 6,
     "metadata": {},
     "output_type": "execute_result"
    }
   ],
   "source": [
    "#Separando todos os dados das outras variáveis que pertencem ao gênero rap. \n",
    "\n",
    "filtro_rap = DataFrame['classificacao'] == 'Rap'\n",
    "dados_rap = DataFrame.loc[filtro_rap,:]\n",
    "\n",
    "dados_rap"
   ]
  },
  {
   "cell_type": "code",
   "execution_count": 7,
   "metadata": {},
   "outputs": [
    {
     "data": {
      "text/html": [
       "<div>\n",
       "<style scoped>\n",
       "    .dataframe tbody tr th:only-of-type {\n",
       "        vertical-align: middle;\n",
       "    }\n",
       "\n",
       "    .dataframe tbody tr th {\n",
       "        vertical-align: top;\n",
       "    }\n",
       "\n",
       "    .dataframe thead th {\n",
       "        text-align: right;\n",
       "    }\n",
       "</style>\n",
       "<table border=\"1\" class=\"dataframe\">\n",
       "  <thead>\n",
       "    <tr style=\"text-align: right;\">\n",
       "      <th></th>\n",
       "      <th>spotify_genre</th>\n",
       "      <th>loudness</th>\n",
       "      <th>spotify_track_popularity</th>\n",
       "      <th>spotify_track_duration_ms</th>\n",
       "      <th>spotify_track_explicit</th>\n",
       "      <th>danceability</th>\n",
       "      <th>mode</th>\n",
       "      <th>speechiness</th>\n",
       "      <th>energy</th>\n",
       "      <th>instrumentalness</th>\n",
       "      <th>acousticness</th>\n",
       "      <th>liveness</th>\n",
       "      <th>valence</th>\n",
       "      <th>classificacao</th>\n",
       "    </tr>\n",
       "  </thead>\n",
       "  <tbody>\n",
       "    <tr>\n",
       "      <th>0</th>\n",
       "      <td>['pop reggaeton']</td>\n",
       "      <td>-4.803</td>\n",
       "      <td>91.0</td>\n",
       "      <td>270740.0</td>\n",
       "      <td>Free</td>\n",
       "      <td>0.734</td>\n",
       "      <td>Minor</td>\n",
       "      <td>0.0735</td>\n",
       "      <td>0.836</td>\n",
       "      <td>0.000016</td>\n",
       "      <td>0.017000</td>\n",
       "      <td>0.1790</td>\n",
       "      <td>0.623</td>\n",
       "      <td>Outro</td>\n",
       "    </tr>\n",
       "    <tr>\n",
       "      <th>2</th>\n",
       "      <td>['dance pop', 'pop']</td>\n",
       "      <td>-6.362</td>\n",
       "      <td>88.0</td>\n",
       "      <td>215733.0</td>\n",
       "      <td>Free</td>\n",
       "      <td>0.572</td>\n",
       "      <td>Major</td>\n",
       "      <td>0.0308</td>\n",
       "      <td>0.385</td>\n",
       "      <td>0.000000</td>\n",
       "      <td>0.371000</td>\n",
       "      <td>0.2310</td>\n",
       "      <td>0.323</td>\n",
       "      <td>Outro</td>\n",
       "    </tr>\n",
       "    <tr>\n",
       "      <th>5</th>\n",
       "      <td>['dance pop', 'pop', 'post-teen pop']</td>\n",
       "      <td>-9.375</td>\n",
       "      <td>76.0</td>\n",
       "      <td>211240.0</td>\n",
       "      <td>Free</td>\n",
       "      <td>0.292</td>\n",
       "      <td>Major</td>\n",
       "      <td>0.0401</td>\n",
       "      <td>0.574</td>\n",
       "      <td>0.005690</td>\n",
       "      <td>0.120000</td>\n",
       "      <td>0.0663</td>\n",
       "      <td>0.166</td>\n",
       "      <td>Outro</td>\n",
       "    </tr>\n",
       "    <tr>\n",
       "      <th>10</th>\n",
       "      <td>['memphis hip hop']</td>\n",
       "      <td>-5.693</td>\n",
       "      <td>80.0</td>\n",
       "      <td>135460.0</td>\n",
       "      <td>Explicit</td>\n",
       "      <td>0.732</td>\n",
       "      <td>Minor</td>\n",
       "      <td>0.1610</td>\n",
       "      <td>0.627</td>\n",
       "      <td>0.000000</td>\n",
       "      <td>0.346000</td>\n",
       "      <td>0.2610</td>\n",
       "      <td>0.332</td>\n",
       "      <td>Outro</td>\n",
       "    </tr>\n",
       "    <tr>\n",
       "      <th>11</th>\n",
       "      <td>['dance pop', 'pop', 'post-teen pop']</td>\n",
       "      <td>-9.728</td>\n",
       "      <td>74.0</td>\n",
       "      <td>287266.0</td>\n",
       "      <td>Free</td>\n",
       "      <td>0.824</td>\n",
       "      <td>Major</td>\n",
       "      <td>0.0827</td>\n",
       "      <td>0.624</td>\n",
       "      <td>0.000189</td>\n",
       "      <td>0.781000</td>\n",
       "      <td>0.1000</td>\n",
       "      <td>0.248</td>\n",
       "      <td>Outro</td>\n",
       "    </tr>\n",
       "    <tr>\n",
       "      <th>...</th>\n",
       "      <td>...</td>\n",
       "      <td>...</td>\n",
       "      <td>...</td>\n",
       "      <td>...</td>\n",
       "      <td>...</td>\n",
       "      <td>...</td>\n",
       "      <td>...</td>\n",
       "      <td>...</td>\n",
       "      <td>...</td>\n",
       "      <td>...</td>\n",
       "      <td>...</td>\n",
       "      <td>...</td>\n",
       "      <td>...</td>\n",
       "      <td>...</td>\n",
       "    </tr>\n",
       "    <tr>\n",
       "      <th>28484</th>\n",
       "      <td>['adult standards', 'brill building pop', 'cla...</td>\n",
       "      <td>-9.767</td>\n",
       "      <td>10.0</td>\n",
       "      <td>123200.0</td>\n",
       "      <td>Free</td>\n",
       "      <td>0.597</td>\n",
       "      <td>Major</td>\n",
       "      <td>0.0362</td>\n",
       "      <td>0.743</td>\n",
       "      <td>0.000000</td>\n",
       "      <td>0.742000</td>\n",
       "      <td>0.6890</td>\n",
       "      <td>0.965</td>\n",
       "      <td>Outro</td>\n",
       "    </tr>\n",
       "    <tr>\n",
       "      <th>28486</th>\n",
       "      <td>['album rock', 'art rock', 'classic rock', 'me...</td>\n",
       "      <td>-14.405</td>\n",
       "      <td>42.0</td>\n",
       "      <td>530560.0</td>\n",
       "      <td>Free</td>\n",
       "      <td>0.571</td>\n",
       "      <td>Major</td>\n",
       "      <td>0.0303</td>\n",
       "      <td>0.502</td>\n",
       "      <td>0.014000</td>\n",
       "      <td>0.015800</td>\n",
       "      <td>0.0849</td>\n",
       "      <td>0.316</td>\n",
       "      <td>Outro</td>\n",
       "    </tr>\n",
       "    <tr>\n",
       "      <th>28487</th>\n",
       "      <td>['alternative metal', 'alternative rock', 'gru...</td>\n",
       "      <td>-9.381</td>\n",
       "      <td>69.0</td>\n",
       "      <td>254626.0</td>\n",
       "      <td>Free</td>\n",
       "      <td>0.287</td>\n",
       "      <td>Major</td>\n",
       "      <td>0.0368</td>\n",
       "      <td>0.670</td>\n",
       "      <td>0.748000</td>\n",
       "      <td>0.000063</td>\n",
       "      <td>0.2370</td>\n",
       "      <td>0.222</td>\n",
       "      <td>Outro</td>\n",
       "    </tr>\n",
       "    <tr>\n",
       "      <th>28488</th>\n",
       "      <td>['adult standards', 'mellow gold', 'soft rock']</td>\n",
       "      <td>-12.617</td>\n",
       "      <td>55.0</td>\n",
       "      <td>237120.0</td>\n",
       "      <td>Free</td>\n",
       "      <td>0.550</td>\n",
       "      <td>Major</td>\n",
       "      <td>0.0523</td>\n",
       "      <td>0.514</td>\n",
       "      <td>0.125000</td>\n",
       "      <td>0.336000</td>\n",
       "      <td>0.3820</td>\n",
       "      <td>0.724</td>\n",
       "      <td>Outro</td>\n",
       "    </tr>\n",
       "    <tr>\n",
       "      <th>28491</th>\n",
       "      <td>['brill building pop', 'classic soul', 'funk',...</td>\n",
       "      <td>-9.534</td>\n",
       "      <td>28.0</td>\n",
       "      <td>161186.0</td>\n",
       "      <td>Free</td>\n",
       "      <td>0.318</td>\n",
       "      <td>Major</td>\n",
       "      <td>0.0290</td>\n",
       "      <td>0.476</td>\n",
       "      <td>0.000000</td>\n",
       "      <td>0.401000</td>\n",
       "      <td>0.6000</td>\n",
       "      <td>0.633</td>\n",
       "      <td>Outro</td>\n",
       "    </tr>\n",
       "  </tbody>\n",
       "</table>\n",
       "<p>20204 rows × 14 columns</p>\n",
       "</div>"
      ],
      "text/plain": [
       "                                           spotify_genre  loudness  \\\n",
       "0                                      ['pop reggaeton']    -4.803   \n",
       "2                                   ['dance pop', 'pop']    -6.362   \n",
       "5                  ['dance pop', 'pop', 'post-teen pop']    -9.375   \n",
       "10                                   ['memphis hip hop']    -5.693   \n",
       "11                 ['dance pop', 'pop', 'post-teen pop']    -9.728   \n",
       "...                                                  ...       ...   \n",
       "28484  ['adult standards', 'brill building pop', 'cla...    -9.767   \n",
       "28486  ['album rock', 'art rock', 'classic rock', 'me...   -14.405   \n",
       "28487  ['alternative metal', 'alternative rock', 'gru...    -9.381   \n",
       "28488    ['adult standards', 'mellow gold', 'soft rock']   -12.617   \n",
       "28491  ['brill building pop', 'classic soul', 'funk',...    -9.534   \n",
       "\n",
       "       spotify_track_popularity  spotify_track_duration_ms  \\\n",
       "0                          91.0                   270740.0   \n",
       "2                          88.0                   215733.0   \n",
       "5                          76.0                   211240.0   \n",
       "10                         80.0                   135460.0   \n",
       "11                         74.0                   287266.0   \n",
       "...                         ...                        ...   \n",
       "28484                      10.0                   123200.0   \n",
       "28486                      42.0                   530560.0   \n",
       "28487                      69.0                   254626.0   \n",
       "28488                      55.0                   237120.0   \n",
       "28491                      28.0                   161186.0   \n",
       "\n",
       "      spotify_track_explicit  danceability   mode  speechiness  energy  \\\n",
       "0                       Free         0.734  Minor       0.0735   0.836   \n",
       "2                       Free         0.572  Major       0.0308   0.385   \n",
       "5                       Free         0.292  Major       0.0401   0.574   \n",
       "10                  Explicit         0.732  Minor       0.1610   0.627   \n",
       "11                      Free         0.824  Major       0.0827   0.624   \n",
       "...                      ...           ...    ...          ...     ...   \n",
       "28484                   Free         0.597  Major       0.0362   0.743   \n",
       "28486                   Free         0.571  Major       0.0303   0.502   \n",
       "28487                   Free         0.287  Major       0.0368   0.670   \n",
       "28488                   Free         0.550  Major       0.0523   0.514   \n",
       "28491                   Free         0.318  Major       0.0290   0.476   \n",
       "\n",
       "       instrumentalness  acousticness  liveness  valence classificacao  \n",
       "0              0.000016      0.017000    0.1790    0.623         Outro  \n",
       "2              0.000000      0.371000    0.2310    0.323         Outro  \n",
       "5              0.005690      0.120000    0.0663    0.166         Outro  \n",
       "10             0.000000      0.346000    0.2610    0.332         Outro  \n",
       "11             0.000189      0.781000    0.1000    0.248         Outro  \n",
       "...                 ...           ...       ...      ...           ...  \n",
       "28484          0.000000      0.742000    0.6890    0.965         Outro  \n",
       "28486          0.014000      0.015800    0.0849    0.316         Outro  \n",
       "28487          0.748000      0.000063    0.2370    0.222         Outro  \n",
       "28488          0.125000      0.336000    0.3820    0.724         Outro  \n",
       "28491          0.000000      0.401000    0.6000    0.633         Outro  \n",
       "\n",
       "[20204 rows x 14 columns]"
      ]
     },
     "execution_count": 7,
     "metadata": {},
     "output_type": "execute_result"
    }
   ],
   "source": [
    "#Separando todos os dados das outras variáveis que pertencem a outros gêneros. \n",
    "\n",
    "filtro_outro = DataFrame['classificacao'] == 'Outro'\n",
    "dados_outro = DataFrame.loc[filtro_outro,:]\n",
    "\n",
    "dados_outro"
   ]
  },
  {
   "cell_type": "markdown",
   "metadata": {},
   "source": [
    "## 2 ) Análise exploratória:\n",
    "\n",
    "A partir desse tópico iremos analisar o quanto as características musicais influenciam em um gênero para que um programa seja capaz de classificar músicas apenas através dessas variáveis. \n",
    "\n",
    "### [2.1] Identificação de variáveis quantitativas e qualitativas:\n",
    "\n",
    "Vamos começar conferindo qual é o tipo das variáveis da tabela, antes de começar de fato a análise exploratória:"
   ]
  },
  {
   "cell_type": "code",
   "execution_count": 8,
   "metadata": {},
   "outputs": [
    {
     "data": {
      "text/plain": [
       "spotify_genre                  object\n",
       "loudness                      float64\n",
       "spotify_track_popularity      float64\n",
       "spotify_track_duration_ms     float64\n",
       "spotify_track_explicit       category\n",
       "danceability                  float64\n",
       "mode                         category\n",
       "speechiness                   float64\n",
       "energy                        float64\n",
       "instrumentalness              float64\n",
       "acousticness                  float64\n",
       "liveness                      float64\n",
       "valence                       float64\n",
       "classificacao                category\n",
       "dtype: object"
      ]
     },
     "execution_count": 8,
     "metadata": {},
     "output_type": "execute_result"
    }
   ],
   "source": [
    "dados_rap.dtypes\n",
    "#dados_outro.dtypes (mesmo resultado do describe do anterior.)"
   ]
  },
  {
   "cell_type": "markdown",
   "metadata": {},
   "source": [
    "### [2.2a] Cruzando o target com os features: análise inicial\n",
    "\n",
    "\n",
    "Após saber o tipo dos features, agora sim podemos realizar a análise descritiva das variáveis. Isso será de extrema importância para confirmar ou descartar algumas de nossas hipóteses, como por exemplo, achar que no geral as músicas do gênero 'rap' são mais explícitas, isto é, possuem mais palavras de baixo calão do que as músicas de outros gêneros, bem como são mais 'faladas' do que cantadas, ou tendem a ser menos instrumentais do que as músicas de outros gêneros. Isso será importante, pois mostrará se olhando apenas para características mais técnicas das músicas conseguimos de fato encontrar fatores diferenciais no gênero 'rap' que permitam classificar uma música como sendo do gênero apenas com essas características.   \n",
    "\n",
    "Sendo assim, para tentar validar ou não algumas de nossas hipóteses, começamos com as medidas-resumo das variáveis quantitativas relacionadas com o gênero 'rap' e relacionadas a 'outros' (outros gêneros musicais), como pode ser visto abaixo:  "
   ]
  },
  {
   "cell_type": "code",
   "execution_count": 9,
   "metadata": {
    "scrolled": true
   },
   "outputs": [
    {
     "data": {
      "text/html": [
       "<div>\n",
       "<style scoped>\n",
       "    .dataframe tbody tr th:only-of-type {\n",
       "        vertical-align: middle;\n",
       "    }\n",
       "\n",
       "    .dataframe tbody tr th {\n",
       "        vertical-align: top;\n",
       "    }\n",
       "\n",
       "    .dataframe thead th {\n",
       "        text-align: right;\n",
       "    }\n",
       "</style>\n",
       "<table border=\"1\" class=\"dataframe\">\n",
       "  <thead>\n",
       "    <tr style=\"text-align: right;\">\n",
       "      <th></th>\n",
       "      <th>loudness</th>\n",
       "      <th>spotify_track_popularity</th>\n",
       "      <th>spotify_track_duration_ms</th>\n",
       "      <th>danceability</th>\n",
       "      <th>speechiness</th>\n",
       "      <th>energy</th>\n",
       "      <th>instrumentalness</th>\n",
       "      <th>acousticness</th>\n",
       "      <th>liveness</th>\n",
       "      <th>valence</th>\n",
       "    </tr>\n",
       "  </thead>\n",
       "  <tbody>\n",
       "    <tr>\n",
       "      <th>count</th>\n",
       "      <td>3361.000000</td>\n",
       "      <td>3361.000000</td>\n",
       "      <td>3361.000000</td>\n",
       "      <td>3361.000000</td>\n",
       "      <td>3361.000000</td>\n",
       "      <td>3361.000000</td>\n",
       "      <td>3361.000000</td>\n",
       "      <td>3361.000000</td>\n",
       "      <td>3361.000000</td>\n",
       "      <td>3361.000000</td>\n",
       "    </tr>\n",
       "    <tr>\n",
       "      <th>mean</th>\n",
       "      <td>-6.495038</td>\n",
       "      <td>59.232966</td>\n",
       "      <td>234335.287712</td>\n",
       "      <td>0.709026</td>\n",
       "      <td>0.176494</td>\n",
       "      <td>0.663766</td>\n",
       "      <td>0.011204</td>\n",
       "      <td>0.143907</td>\n",
       "      <td>0.197296</td>\n",
       "      <td>0.518632</td>\n",
       "    </tr>\n",
       "    <tr>\n",
       "      <th>std</th>\n",
       "      <td>2.566202</td>\n",
       "      <td>15.588329</td>\n",
       "      <td>51350.121701</td>\n",
       "      <td>0.140665</td>\n",
       "      <td>0.125752</td>\n",
       "      <td>0.154658</td>\n",
       "      <td>0.077553</td>\n",
       "      <td>0.178978</td>\n",
       "      <td>0.151300</td>\n",
       "      <td>0.221524</td>\n",
       "    </tr>\n",
       "    <tr>\n",
       "      <th>min</th>\n",
       "      <td>-20.681000</td>\n",
       "      <td>0.000000</td>\n",
       "      <td>49292.000000</td>\n",
       "      <td>0.232000</td>\n",
       "      <td>0.023900</td>\n",
       "      <td>0.066800</td>\n",
       "      <td>0.000000</td>\n",
       "      <td>0.000003</td>\n",
       "      <td>0.013600</td>\n",
       "      <td>0.035200</td>\n",
       "    </tr>\n",
       "    <tr>\n",
       "      <th>25%</th>\n",
       "      <td>-7.794000</td>\n",
       "      <td>50.000000</td>\n",
       "      <td>204520.000000</td>\n",
       "      <td>0.618000</td>\n",
       "      <td>0.064500</td>\n",
       "      <td>0.561000</td>\n",
       "      <td>0.000000</td>\n",
       "      <td>0.019700</td>\n",
       "      <td>0.096300</td>\n",
       "      <td>0.351000</td>\n",
       "    </tr>\n",
       "    <tr>\n",
       "      <th>50%</th>\n",
       "      <td>-6.053000</td>\n",
       "      <td>61.000000</td>\n",
       "      <td>232533.000000</td>\n",
       "      <td>0.723000</td>\n",
       "      <td>0.147000</td>\n",
       "      <td>0.670000</td>\n",
       "      <td>0.000000</td>\n",
       "      <td>0.070100</td>\n",
       "      <td>0.137000</td>\n",
       "      <td>0.527000</td>\n",
       "    </tr>\n",
       "    <tr>\n",
       "      <th>75%</th>\n",
       "      <td>-4.770000</td>\n",
       "      <td>70.000000</td>\n",
       "      <td>262133.000000</td>\n",
       "      <td>0.814000</td>\n",
       "      <td>0.265000</td>\n",
       "      <td>0.780000</td>\n",
       "      <td>0.000008</td>\n",
       "      <td>0.202000</td>\n",
       "      <td>0.262000</td>\n",
       "      <td>0.686000</td>\n",
       "    </tr>\n",
       "    <tr>\n",
       "      <th>max</th>\n",
       "      <td>0.175000</td>\n",
       "      <td>99.000000</td>\n",
       "      <td>688453.000000</td>\n",
       "      <td>0.988000</td>\n",
       "      <td>0.894000</td>\n",
       "      <td>0.984000</td>\n",
       "      <td>0.962000</td>\n",
       "      <td>0.949000</td>\n",
       "      <td>0.973000</td>\n",
       "      <td>0.979000</td>\n",
       "    </tr>\n",
       "  </tbody>\n",
       "</table>\n",
       "</div>"
      ],
      "text/plain": [
       "          loudness  spotify_track_popularity  spotify_track_duration_ms  \\\n",
       "count  3361.000000               3361.000000                3361.000000   \n",
       "mean     -6.495038                 59.232966              234335.287712   \n",
       "std       2.566202                 15.588329               51350.121701   \n",
       "min     -20.681000                  0.000000               49292.000000   \n",
       "25%      -7.794000                 50.000000              204520.000000   \n",
       "50%      -6.053000                 61.000000              232533.000000   \n",
       "75%      -4.770000                 70.000000              262133.000000   \n",
       "max       0.175000                 99.000000              688453.000000   \n",
       "\n",
       "       danceability  speechiness       energy  instrumentalness  acousticness  \\\n",
       "count   3361.000000  3361.000000  3361.000000       3361.000000   3361.000000   \n",
       "mean       0.709026     0.176494     0.663766          0.011204      0.143907   \n",
       "std        0.140665     0.125752     0.154658          0.077553      0.178978   \n",
       "min        0.232000     0.023900     0.066800          0.000000      0.000003   \n",
       "25%        0.618000     0.064500     0.561000          0.000000      0.019700   \n",
       "50%        0.723000     0.147000     0.670000          0.000000      0.070100   \n",
       "75%        0.814000     0.265000     0.780000          0.000008      0.202000   \n",
       "max        0.988000     0.894000     0.984000          0.962000      0.949000   \n",
       "\n",
       "          liveness      valence  \n",
       "count  3361.000000  3361.000000  \n",
       "mean      0.197296     0.518632  \n",
       "std       0.151300     0.221524  \n",
       "min       0.013600     0.035200  \n",
       "25%       0.096300     0.351000  \n",
       "50%       0.137000     0.527000  \n",
       "75%       0.262000     0.686000  \n",
       "max       0.973000     0.979000  "
      ]
     },
     "execution_count": 9,
     "metadata": {},
     "output_type": "execute_result"
    }
   ],
   "source": [
    "dados_rap.describe()"
   ]
  },
  {
   "cell_type": "code",
   "execution_count": 10,
   "metadata": {},
   "outputs": [
    {
     "data": {
      "text/html": [
       "<div>\n",
       "<style scoped>\n",
       "    .dataframe tbody tr th:only-of-type {\n",
       "        vertical-align: middle;\n",
       "    }\n",
       "\n",
       "    .dataframe tbody tr th {\n",
       "        vertical-align: top;\n",
       "    }\n",
       "\n",
       "    .dataframe thead th {\n",
       "        text-align: right;\n",
       "    }\n",
       "</style>\n",
       "<table border=\"1\" class=\"dataframe\">\n",
       "  <thead>\n",
       "    <tr style=\"text-align: right;\">\n",
       "      <th></th>\n",
       "      <th>loudness</th>\n",
       "      <th>spotify_track_popularity</th>\n",
       "      <th>spotify_track_duration_ms</th>\n",
       "      <th>danceability</th>\n",
       "      <th>speechiness</th>\n",
       "      <th>energy</th>\n",
       "      <th>instrumentalness</th>\n",
       "      <th>acousticness</th>\n",
       "      <th>liveness</th>\n",
       "      <th>valence</th>\n",
       "    </tr>\n",
       "  </thead>\n",
       "  <tbody>\n",
       "    <tr>\n",
       "      <th>count</th>\n",
       "      <td>20204.000000</td>\n",
       "      <td>20204.000000</td>\n",
       "      <td>2.020400e+04</td>\n",
       "      <td>20204.000000</td>\n",
       "      <td>20204.000000</td>\n",
       "      <td>20204.000000</td>\n",
       "      <td>20204.000000</td>\n",
       "      <td>20204.000000</td>\n",
       "      <td>20204.000000</td>\n",
       "      <td>20204.000000</td>\n",
       "    </tr>\n",
       "    <tr>\n",
       "      <th>mean</th>\n",
       "      <td>-9.077810</td>\n",
       "      <td>37.513809</td>\n",
       "      <td>2.192323e+05</td>\n",
       "      <td>0.579809</td>\n",
       "      <td>0.054391</td>\n",
       "      <td>0.610589</td>\n",
       "      <td>0.036453</td>\n",
       "      <td>0.321130</td>\n",
       "      <td>0.191723</td>\n",
       "      <td>0.619703</td>\n",
       "    </tr>\n",
       "    <tr>\n",
       "      <th>std</th>\n",
       "      <td>3.630586</td>\n",
       "      <td>21.607313</td>\n",
       "      <td>7.026398e+04</td>\n",
       "      <td>0.147095</td>\n",
       "      <td>0.052803</td>\n",
       "      <td>0.205568</td>\n",
       "      <td>0.143934</td>\n",
       "      <td>0.288854</td>\n",
       "      <td>0.160936</td>\n",
       "      <td>0.237723</td>\n",
       "    </tr>\n",
       "    <tr>\n",
       "      <th>min</th>\n",
       "      <td>-28.030000</td>\n",
       "      <td>0.000000</td>\n",
       "      <td>2.968800e+04</td>\n",
       "      <td>0.000000</td>\n",
       "      <td>0.000000</td>\n",
       "      <td>0.000581</td>\n",
       "      <td>0.000000</td>\n",
       "      <td>0.000003</td>\n",
       "      <td>0.009670</td>\n",
       "      <td>0.000000</td>\n",
       "    </tr>\n",
       "    <tr>\n",
       "      <th>25%</th>\n",
       "      <td>-11.494000</td>\n",
       "      <td>19.000000</td>\n",
       "      <td>1.715330e+05</td>\n",
       "      <td>0.485000</td>\n",
       "      <td>0.031300</td>\n",
       "      <td>0.458000</td>\n",
       "      <td>0.000000</td>\n",
       "      <td>0.057500</td>\n",
       "      <td>0.089300</td>\n",
       "      <td>0.436000</td>\n",
       "    </tr>\n",
       "    <tr>\n",
       "      <th>50%</th>\n",
       "      <td>-8.781000</td>\n",
       "      <td>38.000000</td>\n",
       "      <td>2.120930e+05</td>\n",
       "      <td>0.589000</td>\n",
       "      <td>0.038100</td>\n",
       "      <td>0.625000</td>\n",
       "      <td>0.000009</td>\n",
       "      <td>0.235000</td>\n",
       "      <td>0.130000</td>\n",
       "      <td>0.648000</td>\n",
       "    </tr>\n",
       "    <tr>\n",
       "      <th>75%</th>\n",
       "      <td>-6.251000</td>\n",
       "      <td>54.000000</td>\n",
       "      <td>2.519362e+05</td>\n",
       "      <td>0.684000</td>\n",
       "      <td>0.054100</td>\n",
       "      <td>0.779000</td>\n",
       "      <td>0.000778</td>\n",
       "      <td>0.563000</td>\n",
       "      <td>0.248000</td>\n",
       "      <td>0.822000</td>\n",
       "    </tr>\n",
       "    <tr>\n",
       "      <th>max</th>\n",
       "      <td>2.291000</td>\n",
       "      <td>100.000000</td>\n",
       "      <td>3.079157e+06</td>\n",
       "      <td>0.980000</td>\n",
       "      <td>0.924000</td>\n",
       "      <td>0.997000</td>\n",
       "      <td>0.982000</td>\n",
       "      <td>0.991000</td>\n",
       "      <td>0.999000</td>\n",
       "      <td>0.991000</td>\n",
       "    </tr>\n",
       "  </tbody>\n",
       "</table>\n",
       "</div>"
      ],
      "text/plain": [
       "           loudness  spotify_track_popularity  spotify_track_duration_ms  \\\n",
       "count  20204.000000              20204.000000               2.020400e+04   \n",
       "mean      -9.077810                 37.513809               2.192323e+05   \n",
       "std        3.630586                 21.607313               7.026398e+04   \n",
       "min      -28.030000                  0.000000               2.968800e+04   \n",
       "25%      -11.494000                 19.000000               1.715330e+05   \n",
       "50%       -8.781000                 38.000000               2.120930e+05   \n",
       "75%       -6.251000                 54.000000               2.519362e+05   \n",
       "max        2.291000                100.000000               3.079157e+06   \n",
       "\n",
       "       danceability   speechiness        energy  instrumentalness  \\\n",
       "count  20204.000000  20204.000000  20204.000000      20204.000000   \n",
       "mean       0.579809      0.054391      0.610589          0.036453   \n",
       "std        0.147095      0.052803      0.205568          0.143934   \n",
       "min        0.000000      0.000000      0.000581          0.000000   \n",
       "25%        0.485000      0.031300      0.458000          0.000000   \n",
       "50%        0.589000      0.038100      0.625000          0.000009   \n",
       "75%        0.684000      0.054100      0.779000          0.000778   \n",
       "max        0.980000      0.924000      0.997000          0.982000   \n",
       "\n",
       "       acousticness      liveness       valence  \n",
       "count  20204.000000  20204.000000  20204.000000  \n",
       "mean       0.321130      0.191723      0.619703  \n",
       "std        0.288854      0.160936      0.237723  \n",
       "min        0.000003      0.009670      0.000000  \n",
       "25%        0.057500      0.089300      0.436000  \n",
       "50%        0.235000      0.130000      0.648000  \n",
       "75%        0.563000      0.248000      0.822000  \n",
       "max        0.991000      0.999000      0.991000  "
      ]
     },
     "execution_count": 10,
     "metadata": {},
     "output_type": "execute_result"
    }
   ],
   "source": [
    "dados_outro.describe()"
   ]
  },
  {
   "cell_type": "markdown",
   "metadata": {},
   "source": [
    "A princípio, com essas medidas resumo, podemos observar que o gênero 'rap' possui algumas diferenças consideráveis em relação aos outros gêneros. A começar por 'danceability', percebe-se que e média de uma música ser dançável é maior no gênero 'rap', do que em outros gêneros. Além disso, como pensávamos antes, o gênero 'rap' tem uma média maior na característica de música 'falada' ('speechiness') do que os outros gêneros, e é menos instrumental também do que os outros tipos de música. \n",
    "\n",
    "Em relação às outras características também existem algumas diferenças que possivelmente irão ajudar com a precisão da classificação que será feita depois, mas que por enquanto não parecem muito significativas. "
   ]
  },
  {
   "cell_type": "markdown",
   "metadata": {},
   "source": [
    "### [2.2b] Cruzando o target com os features: gráficos e tabelas cruzadas"
   ]
  },
  {
   "cell_type": "markdown",
   "metadata": {},
   "source": [
    "Após ter as informações básicas das variáveis quantitativas do 'dados_rap', foram feitos histogramas para cada variável quantitativa que pertence ao 'dados_rap', bem como histogramas dessas mesmas variáveis para os dados dos outros gêneros, a fim de compará-los ainda mais a fundo. "
   ]
  },
  {
   "cell_type": "code",
   "execution_count": 11,
   "metadata": {},
   "outputs": [
    {
     "data": {
      "image/png": "[encoded data removed]",
      "text/plain": [
       "<Figure size 432x288 with 1 Axes>"
      ]
     },
     "metadata": {
      "needs_background": "light"
     },
     "output_type": "display_data"
    },
    {
     "data": {
      "image/png": "[encoded data removed]",
      "text/plain": [
       "<Figure size 432x288 with 1 Axes>"
      ]
     },
     "metadata": {
      "needs_background": "light"
     },
     "output_type": "display_data"
    },
    {
     "data": {
      "image/png": "[encoded data removed]",
      "text/plain": [
       "<Figure size 432x288 with 1 Axes>"
      ]
     },
     "metadata": {
      "needs_background": "light"
     },
     "output_type": "display_data"
    },
    {
     "data": {
      "image/png": "[encoded data removed]",
      "text/plain": [
       "<Figure size 432x288 with 1 Axes>"
      ]
     },
     "metadata": {
      "needs_background": "light"
     },
     "output_type": "display_data"
    },
    {
     "data": {
      "image/png": "[encoded data removed]",
      "text/plain": [
       "<Figure size 432x288 with 1 Axes>"
      ]
     },
     "metadata": {
      "needs_background": "light"
     },
     "output_type": "display_data"
    },
    {
     "data": {
      "image/png": "[encoded data removed]",
      "text/plain": [
       "<Figure size 432x288 with 1 Axes>"
      ]
     },
     "metadata": {
      "needs_background": "light"
     },
     "output_type": "display_data"
    },
    {
     "data": {
      "image/png": "[encoded data removed]",
      "text/plain": [
       "<Figure size 432x288 with 1 Axes>"
      ]
     },
     "metadata": {
      "needs_background": "light"
     },
     "output_type": "display_data"
    },
    {
     "data": {
      "image/png": "[encoded data removed]",
      "text/plain": [
       "<Figure size 432x288 with 1 Axes>"
      ]
     },
     "metadata": {
      "needs_background": "light"
     },
     "output_type": "display_data"
    },
    {
     "data": {
      "image/png": "[encoded data removed]",
      "text/plain": [
       "<Figure size 432x288 with 1 Axes>"
      ]
     },
     "metadata": {
      "needs_background": "light"
     },
     "output_type": "display_data"
    },
    {
     "data": {
      "image/png": "[encoded data removed]",
      "text/plain": [
       "<Figure size 432x288 with 1 Axes>"
      ]
     },
     "metadata": {
      "needs_background": "light"
     },
     "output_type": "display_data"
    }
   ],
   "source": [
    "#histograma de rap e popularidade, e histograma de outros gêneros e popularidade.\n",
    "\n",
    "popularidade = dados_rap.loc[:,'spotify_track_popularity']\n",
    "popularidade_2 = dados_outro.loc[:,'spotify_track_popularity']\n",
    "\n",
    "amplitude = np.arange(0,101,10)\n",
    "plt.hist(popularidade, bins= amplitude, label='rap', edgecolor='white',density=True, alpha=0.5)\n",
    "plt.title('Popularidade: rap vs outro')\n",
    "plt.ylabel('densidade')\n",
    "plt.hist(popularidade_2, bins= amplitude, label='outros', edgecolor='white', density=True, alpha=0.5)\n",
    "plt.legend()\n",
    "plt.show()\n",
    "\n",
    "#-----------------------------------------------------------\n",
    "\n",
    "#histograma de rap e 'loudness', e histograma de outros gêneros e 'loudness'.\n",
    "\n",
    "loud = dados_rap.loc[:,'loudness']\n",
    "loud_2 = dados_outro.loc[:,'loudness']\n",
    "\n",
    "amplitude = np.arange(-20,2,1)\n",
    "plt.hist(loud, color='orange', bins=amplitude, label='rap',edgecolor='white',density=True,alpha=0.5)\n",
    "plt.title('Loudness: rap vs outros')\n",
    "plt.ylabel('densidade')\n",
    "plt.hist(loud_2, color='navy', bins= amplitude, label='outros', edgecolor='white', density=True,alpha=0.5)\n",
    "plt.legend()\n",
    "plt.show()\n",
    "\n",
    "#------------------------------------------------------------------\n",
    "\n",
    "#histograma de rap e duração da música, e histograma de outros gêneros e 'duração da música'\n",
    "\n",
    "duration = dados_rap.loc[:,'spotify_track_duration_ms']\n",
    "duration_2 = dados_outro.loc[:,'spotify_track_duration_ms']\n",
    "amplitude = np.arange(5000,550000,20000)\n",
    "plt.hist(duration, color='darkcyan', bins= amplitude, label='rap', edgecolor='white',density=True, alpha=0.5)\n",
    "plt.title('Duration: rap vs outros')\n",
    "plt.ylabel('densidade')\n",
    "plt.hist(duration_2, color='lime', bins= amplitude, label='outros', edgecolor='white', density=True, alpha=0.5)\n",
    "plt.legend()\n",
    "plt.show()\n",
    "\n",
    "# ------------------------------------------------------------------\n",
    "\n",
    "#histograma de rap e 'dançabilidade', e histograma de outros gêneros e 'dançabilidade'\n",
    "\n",
    "danceability = dados_rap.loc[:,'danceability']\n",
    "danceability_2 = dados_outro.loc[:,'danceability']\n",
    "amplitude = np.arange(0,1,0.05)\n",
    "plt.hist(danceability, color='red', bins= amplitude, label = 'rap',edgecolor='white',density=True, alpha=0.5)\n",
    "plt.title('Danceability: rap vs outros')\n",
    "plt.ylabel('densidade')\n",
    "plt.hist(danceability_2, color='y', bins= amplitude, label='outros',edgecolor='white', density=True, alpha=0.5)\n",
    "plt.legend()\n",
    "plt.show()\n",
    "\n",
    "#-------------------------------------------------------------------------\n",
    "\n",
    "#histograma de rap e 'speechiness', e histograma de outros gêneros e 'speechiness'\n",
    "\n",
    "speechiness = dados_rap.loc[:,'speechiness']\n",
    "speechiness_2 = dados_outro.loc[:,'speechiness']\n",
    "\n",
    "amplitude = np.arange(0,1,0.05)\n",
    "plt.hist(speechiness, color='darkmagenta', bins=amplitude, label='rap', edgecolor='white',density=True, alpha=0.5)\n",
    "plt.title('Speechiness: rap vs outros')\n",
    "plt.ylabel('densidade')\n",
    "plt.hist(speechiness_2, color='dodgerblue', bins= amplitude, label='outros', edgecolor='white', density=True, alpha=0.5)\n",
    "plt.legend()\n",
    "plt.show()\n",
    "\n",
    "#-----------------------------------------------------------------------------\n",
    "\n",
    "#histograma de rap e energia, e histograma de outros gêneros e energia\n",
    "\n",
    "energy = dados_rap.loc[:,'energy']\n",
    "energy_2 = dados_outro.loc[:,'energy']\n",
    "\n",
    "amplitude = np.arange(0,1,0.05)\n",
    "plt.hist(energy, color='forestgreen', bins=amplitude,label='rap', edgecolor='white',density=True, alpha=0.5)\n",
    "plt.title('Energy: rap vs outros')\n",
    "plt.ylabel('densidade')\n",
    "plt.hist(energy_2, color='teal', bins= amplitude, label='outros', edgecolor='white', density=True, alpha=0.5)\n",
    "plt.legend()\n",
    "plt.show()\n",
    "\n",
    "#--------------------------------------------------------------------------------------\n",
    "\n",
    "#histograma de rap e instrumental, e histograma de outros gêneros e instrumental\n",
    "\n",
    "instrumental = dados_rap.loc[:,'instrumentalness']\n",
    "instrumental_2 = dados_outro.loc[:,'instrumentalness']\n",
    "\n",
    "amplitude = np.arange(0,0.2,0.01)\n",
    "plt.hist(instrumental, color='black', bins=amplitude, label='rap', edgecolor='white',density=True, alpha=0.5)\n",
    "plt.title('Instrumentalness: rap vs outros')\n",
    "plt.ylabel('densidade')\n",
    "plt.hist(instrumental_2, color='coral', bins= amplitude, label='outros', edgecolor='white', density=True, alpha=0.5)\n",
    "plt.legend()\n",
    "plt.show()\n",
    "\n",
    "#--------------------------------------------------------------------------------------------\n",
    "\n",
    "#histograma de rap e acústico, e histograma de outros gêneros e acústico\n",
    "\n",
    "acoustic = dados_rap.loc[:,'acousticness']\n",
    "acoustic_2 = dados_outro.loc[:,'acousticness']\n",
    "\n",
    "amplitude = np.arange(0,1,0.05)\n",
    "plt.hist(acoustic, color='aqua', bins= amplitude,label = 'rap', edgecolor='white',density=True, alpha=0.5)\n",
    "plt.title('Acousticness: rap vs outros')\n",
    "plt.ylabel('densidade')\n",
    "plt.hist(acoustic_2, color='orangered', bins= amplitude, label='outros', edgecolor='white', density=True, alpha=0.5)\n",
    "plt.legend()\n",
    "plt.show()\n",
    "\n",
    "#-----------------------------------------------------------------------------\n",
    "\n",
    "#histograma de rap e 'liveness', e histograma de outros gêneros e 'liveness'\n",
    "\n",
    "live = dados_rap.loc[:,'liveness']\n",
    "live_2 = dados_outro.loc[:,'liveness']\n",
    "\n",
    "amplitude = np.arange(0,1,0.05)\n",
    "plt.hist(live, color='deeppink', bins = amplitude, label='rap', edgecolor='white',density=True, alpha=0.5)\n",
    "plt.title('Liveness: rap vs outros')\n",
    "plt.ylabel('densidade')\n",
    "plt.hist(live_2, color='maroon', bins= amplitude, label='outros', edgecolor='white', density=True, alpha=0.5)\n",
    "plt.legend()\n",
    "plt.show()\n",
    "\n",
    "#---------------------------------------------------------------------------\n",
    "\n",
    "#histograma de rap e valence, e histograma de outros gêneros e valence\n",
    "\n",
    "valence = dados_rap.loc[:,'valence']\n",
    "valence_2 = dados_outro.loc[:,'valence']\n",
    "\n",
    "amplitude = np.arange(0,1,0.05)\n",
    "plt.hist(valence, color='crimson', bins=amplitude, label='rap', edgecolor='white',density=True, alpha=0.5)\n",
    "plt.title('Valence: rap')\n",
    "plt.ylabel('densidade')\n",
    "plt.hist(valence_2, color='g', bins= amplitude, label='outros', edgecolor='white', density=True, alpha=0.5)\n",
    "plt.legend()\n",
    "plt.show()\n"
   ]
  },
  {
   "cell_type": "markdown",
   "metadata": {},
   "source": [
    "Ao observar o primeiro gráfico plotado, percebe-se que a popularidade das músicas de rap tem uma densidade maior, ou seja, concentram-se mais em torno de 60 a 70 enquanto o gráfico dos outros gêneros tem maior densidade em torno dos 50 a 60, sendo essa densidade menor que a maior densidade do rap. De maneira geral, através do gráfico vê-se que o 'rap' tem popularidades maiores do que os outros gêneros, indicando um bom ponto que antes não havíamos notado e que poderá fazer grande diferença na classificação.\n",
    "\n",
    "Além disso, em relação ao gráfico 'loudness', percebe-se que embora a diferença não pareça muito grande na tabela de medidas-resumo, o gênero 'rap' mais uma vez apresenta valores maiores em comparação a outros gêneros, principalmente porque os outros gêneros englobam maior variedade de músicas, desde clássicas até 'heavy metal', o que pode afetar em sua distribuição e densidade. \n",
    "\n",
    "Por sua vez, a duração de músicas de 'rap' tende a ser mais concentrada em torno dos 200000 a 250000mS, enquanto que para valores de duração maiores os outros gêneros predominam. Ademais, também interessante notar que para valores de duração menores, os outros gêneros predominam. \n",
    "\n",
    "Em relação ao tópico 'danceability', nota-se também que o gênero 'rap' está concentrado nos maiores valores, indicando que o tipo de música que engloba esse gênero tende a ser mais dançável do que os outros. O contrário também é real, os valores menos dançáveis pertencem aos outros gêneros e não ao 'rap. \n",
    "\n",
    "No gráfico de 'speechiness', a diferença observada é realmente significativa, já que os valores do gênero 'rap' tendem a ser muito mais próximos de 1.0 (o que indica maior presença de palavras faladas em uma música) do que os outros gêneros, que se concentram mais em torno de 0.0. Sendo assim, ao analisar esse gráfico percebe-se que 'speechiness' será uma característica muito importante para o nosso classificador.\n",
    "\n",
    "Para o gráfico de energia, percebe-se que os valores do 'rap' tendem a ser mais homogêneos. De maneira geral, esse pode ser considerado um gênero mais energético, porém também pode-se notar que para valores mais altos, os outros gêneros apresentam maior densidade. \n",
    "\n",
    "Em relação ao instrumental, percebe-se que como esperado o 'rap' não é um gênero que é composto apenas de instrumentos, ou seja, a sua maioria contém vocais. Os outros gêneros também tendem a ser não instrumentais (lembrando que estamos trabalhando com músicas que fizeram parte do top 100 hot da Billboard durante os anos), porém como há maior variedade apresentam uma suave assimetria à direita, enquanto o gráfico do 'rap' é mais homogêneo.\n",
    "\n",
    "Sobre a acústica das músicas, também notamos que o 'rap' não é um gênero que utiliza muito de instrumentos acústicos, utilizando mais ferramentas eletrônicas para a elaboração de suas faixas. Inclusive, percebe-se que para valores mais próximos de 1.0, os outros gêneros predominam, tendo maior densidade. \n",
    "\n",
    "Já no gráfico de 'liveness' , que mostra a presença ou não de um público, percebe-se que ambos: rap e outros gêneros, apresentam resultados bem parecidos, sendo esses muito baixos. O que é coerente, já que a plataforma 'Spotify' concentra mais albúns gravados em estudio do que ao vivo. \n",
    "\n",
    "Por fim, sobre a valência, que indica a positividade de uma música, percebe-se que o gráfico do 'rap' se comporta mais como uma distribuição normal, tendo uma média em torno de 0.5, assim, tanto para maiores valores quanto para menores valores, perceb-se pouca densidade no histograma. Em contrapartida, o gráfico de valência dos outros gêneros se assemelham mais a uma assimetria à esquerda, tendo uma grande densidade nos valores mais próximos de 1.0. \n",
    "\n",
    "Logo, por meio dessas observações, percebe-se que os gráficos mostram diferenças nos features quantitativos que a princípio não sabíamos que existiam.  "
   ]
  },
  {
   "cell_type": "markdown",
   "metadata": {},
   "source": [
    "Depois de realizar a análise com as variáveis quantitativas, foi o momento de realizar a análise com os dois dados qualitativos de nossa base de dados: modo('Mode') e explicitabilidade ('spotify_track_explicit')."
   ]
  },
  {
   "cell_type": "code",
   "execution_count": 12,
   "metadata": {},
   "outputs": [
    {
     "data": {
      "text/html": [
       "<div>\n",
       "<style scoped>\n",
       "    .dataframe tbody tr th:only-of-type {\n",
       "        vertical-align: middle;\n",
       "    }\n",
       "\n",
       "    .dataframe tbody tr th {\n",
       "        vertical-align: top;\n",
       "    }\n",
       "\n",
       "    .dataframe thead th {\n",
       "        text-align: right;\n",
       "    }\n",
       "</style>\n",
       "<table border=\"1\" class=\"dataframe\">\n",
       "  <thead>\n",
       "    <tr style=\"text-align: right;\">\n",
       "      <th>mode</th>\n",
       "      <th>Minor</th>\n",
       "      <th>Major</th>\n",
       "    </tr>\n",
       "    <tr>\n",
       "      <th>classificacao</th>\n",
       "      <th></th>\n",
       "      <th></th>\n",
       "    </tr>\n",
       "  </thead>\n",
       "  <tbody>\n",
       "    <tr>\n",
       "      <th>Outro</th>\n",
       "      <td>24.0</td>\n",
       "      <td>76.0</td>\n",
       "    </tr>\n",
       "    <tr>\n",
       "      <th>Rap</th>\n",
       "      <td>44.0</td>\n",
       "      <td>56.0</td>\n",
       "    </tr>\n",
       "    <tr>\n",
       "      <th>All</th>\n",
       "      <td>27.0</td>\n",
       "      <td>73.0</td>\n",
       "    </tr>\n",
       "  </tbody>\n",
       "</table>\n",
       "</div>"
      ],
      "text/plain": [
       "mode           Minor  Major\n",
       "classificacao              \n",
       "Outro           24.0   76.0\n",
       "Rap             44.0   56.0\n",
       "All             27.0   73.0"
      ]
     },
     "execution_count": 12,
     "metadata": {},
     "output_type": "execute_result"
    }
   ],
   "source": [
    "#realizando o crosstab para saber a relação entre classificação e 'Mode'.\n",
    "pd.crosstab(DataFrame['classificacao'],DataFrame['mode'],normalize='index',margins=True).round(2)*100"
   ]
  },
  {
   "cell_type": "code",
   "execution_count": 13,
   "metadata": {},
   "outputs": [
    {
     "data": {
      "text/html": [
       "<div>\n",
       "<style scoped>\n",
       "    .dataframe tbody tr th:only-of-type {\n",
       "        vertical-align: middle;\n",
       "    }\n",
       "\n",
       "    .dataframe tbody tr th {\n",
       "        vertical-align: top;\n",
       "    }\n",
       "\n",
       "    .dataframe thead th {\n",
       "        text-align: right;\n",
       "    }\n",
       "</style>\n",
       "<table border=\"1\" class=\"dataframe\">\n",
       "  <thead>\n",
       "    <tr style=\"text-align: right;\">\n",
       "      <th>spotify_track_explicit</th>\n",
       "      <th>Free</th>\n",
       "      <th>Explicit</th>\n",
       "    </tr>\n",
       "    <tr>\n",
       "      <th>classificacao</th>\n",
       "      <th></th>\n",
       "      <th></th>\n",
       "    </tr>\n",
       "  </thead>\n",
       "  <tbody>\n",
       "    <tr>\n",
       "      <th>Outro</th>\n",
       "      <td>98.0</td>\n",
       "      <td>2.0</td>\n",
       "    </tr>\n",
       "    <tr>\n",
       "      <th>Rap</th>\n",
       "      <td>35.0</td>\n",
       "      <td>65.0</td>\n",
       "    </tr>\n",
       "    <tr>\n",
       "      <th>All</th>\n",
       "      <td>89.0</td>\n",
       "      <td>11.0</td>\n",
       "    </tr>\n",
       "  </tbody>\n",
       "</table>\n",
       "</div>"
      ],
      "text/plain": [
       "spotify_track_explicit  Free  Explicit\n",
       "classificacao                         \n",
       "Outro                   98.0       2.0\n",
       "Rap                     35.0      65.0\n",
       "All                     89.0      11.0"
      ]
     },
     "execution_count": 13,
     "metadata": {},
     "output_type": "execute_result"
    }
   ],
   "source": [
    "#realizando o crosstab para saber a relação entre classificação e explicitabilidade.\n",
    "pd.crosstab(DataFrame['classificacao'],DataFrame['spotify_track_explicit'],normalize='index',margins=True).round(2)*100"
   ]
  },
  {
   "cell_type": "markdown",
   "metadata": {},
   "source": [
    "Como pode ser observado nas tabelas cruzadas acima, em relação ao modo, tanto o gênero 'rap' quanto os outros gêneros são escritos mais em escalas maiores. Porém, em relação a explicitabilidade, percebe-se que o gênero 'rap' é em sua maioria explícito, ou seja, contém letras com mais palavras de baixo calão, ao contrário dos outros gêneros. Isso já nos mostra que esse feature será muito importante para a classificação do nosso target final, podendo ter um papel de destaque em relação à outros. "
   ]
  },
  {
   "cell_type": "markdown",
   "metadata": {},
   "source": [
    "## 3 ) Aplicação da técnica: 'Random Forest'\n",
    "\n",
    "Já nesse terceiro tópico, iremos implementar a técnica para classificação conhecida como 'Random Forest'. Random vem do inglês e  significa aleatório, denotando o comportamento do algoritmo ao selecionar subconjuntos de features e montar mini árvores de decisão. Forest significa floresta, já que são geradas várias árvores de decisão. Sendo assim, várias possibilidades são criadas para a melhor classificação da nossa base de teste."
   ]
  },
  {
   "cell_type": "markdown",
   "metadata": {},
   "source": [
    "### [3.1] Treinamento e Teste:\n",
    "\n",
    "Agora, vamos separar o DataFrame já limpo em `Treinamento`, utilizado para treinar nosso classificador, e `Teste`, para analisar o funcionamento do classificador já criado e treinado, sendo 70% para o Treinamento e 30% para o Teste. Mas antes, precisávamos alterar algumas coisas para que nossos dados pudessem ser utilizados corretamente pela biblioteca do `scikit.learn`. Sendo assim, começamos modificando as variáveis qualitativas e as transformamos em `dummies`, para que a ausência ou a presença de algum efeito categórico que pode modificar resultados seja substituído apenas pelos valores de 0 ou 1. "
   ]
  },
  {
   "cell_type": "code",
   "execution_count": 14,
   "metadata": {},
   "outputs": [],
   "source": [
    "#Criamos dummies para as varíaveis qualitativas\n",
    "\n",
    "Mode_Explicit = pd.get_dummies(DataFrame[['mode','spotify_track_explicit']])\n",
    "DataFrame = DataFrame.join(Mode_Explicit)\n"
   ]
  },
  {
   "cell_type": "code",
   "execution_count": 15,
   "metadata": {},
   "outputs": [],
   "source": [
    "# Modificamos as variáveis que classificação que antes eram 'Outros' e 'Rap' e que passaram a ser 0 e 1, respectivamente.\n",
    "\n",
    "DataFrame['classificacao'].cat.categories = [0,1]\n",
    "DataFrame['classificacao'] = DataFrame['classificacao'].astype('int64')\n",
    "\n"
   ]
  },
  {
   "cell_type": "code",
   "execution_count": 16,
   "metadata": {},
   "outputs": [],
   "source": [
    "#================================================= Criando os DataFrames ======================================================\n",
    "# para o X do Dataframe novo\n",
    "Lista_Colunas = list(DataFrame.columns)\n",
    "Lista_Colunas.remove('spotify_genre')\n",
    "Lista_Colunas.remove('classificacao')\n",
    "Lista_Colunas.remove('mode')\n",
    "Lista_Colunas.remove('spotify_track_explicit')\n",
    "X = DataFrame[Lista_Colunas]\n",
    "\n",
    "# para o y do Dataframe novo\n",
    "y = DataFrame['classificacao']\n",
    "\n",
    "# aplicando a função: Treinamento com 70% do DataSet:\n",
    "X_train, X_test, y_train, y_test = train_test_split(X, y, test_size=0.3, random_state=42)"
   ]
  },
  {
   "cell_type": "code",
   "execution_count": 17,
   "metadata": {},
   "outputs": [
    {
     "data": {
      "text/plain": [
       "RandomForestClassifier(bootstrap=True, ccp_alpha=0.0, class_weight=None,\n",
       "                       criterion='gini', max_depth=2, max_features='auto',\n",
       "                       max_leaf_nodes=None, max_samples=None,\n",
       "                       min_impurity_decrease=0.0, min_impurity_split=None,\n",
       "                       min_samples_leaf=1, min_samples_split=2,\n",
       "                       min_weight_fraction_leaf=0.0, n_estimators=100,\n",
       "                       n_jobs=None, oob_score=False, random_state=0, verbose=0,\n",
       "                       warm_start=False)"
      ]
     },
     "execution_count": 17,
     "metadata": {},
     "output_type": "execute_result"
    }
   ],
   "source": [
    "#Realizando o treinamento do classificador.\n",
    "\n",
    "clf_random = RandomForestClassifier(max_depth=2, random_state=0)\n",
    "clf_random.fit(X_train, y_train)\n"
   ]
  },
  {
   "cell_type": "code",
   "execution_count": 18,
   "metadata": {},
   "outputs": [
    {
     "data": {
      "text/plain": [
       "0.9383309759547384"
      ]
     },
     "execution_count": 18,
     "metadata": {},
     "output_type": "execute_result"
    }
   ],
   "source": [
    "#Testando a eficácia da base de teste com o classificador já treinado.\n",
    "\n",
    "clf_random.score(X_test, y_test)"
   ]
  },
  {
   "cell_type": "markdown",
   "metadata": {},
   "source": [
    "Como visto acima, o nosso classificador teve uma acurácia de cerca de 92%, demonstrando a príncipio um bom resultado em julgar uma música sendo 'rap' ou não apenas através de suas características musicais descritas no trabalho. Porém, afim de saber mais a fundo sobre esse resultado, plotamos a matriz de confusão, que é uma matriz de dimensão 2 x 2, capaz de calcular a quantidade de falso positivo e falso negativo, e de verdadeiro positivo e verdadeiro negativo, além de que por meio dela é possível saber a acurácia e a sensibilidade. Sendo assim, fizemos o que se encontra abaixo: "
   ]
  },
  {
   "cell_type": "code",
   "execution_count": 19,
   "metadata": {},
   "outputs": [
    {
     "data": {
      "text/plain": [
       "array([[5958,  118],\n",
       "       [ 318,  676]], dtype=int64)"
      ]
     },
     "execution_count": 19,
     "metadata": {},
     "output_type": "execute_result"
    }
   ],
   "source": [
    "#plotando a matriz de confusão\n",
    "\n",
    "y_true = y_test\n",
    "y_pred = clf_random.predict(X_test)\n",
    "matriz_random = confusion_matrix(y_true, y_pred)\n",
    "matriz_random"
   ]
  },
  {
   "cell_type": "markdown",
   "metadata": {},
   "source": [
    "Na matriz plotada, tem-se que a diagonal principal é composta de cima para baixo, respectivamente, dos valores de verdadeiro positivo (5958) e verdadeiro negativo (676). Por sua vez, os valores da diagonal secundária são compostos de cima para baixo, respectivamente, pelos valores de falso positivo (118) e falso negativo (318)."
   ]
  },
  {
   "cell_type": "markdown",
   "metadata": {},
   "source": [
    "Agora, como exemplo do que foi feito pelo classificador, selecionamos uma árvore de decisão e criamos um documento `.dot` que quando convertido em imagem representa uma das árvores feitas pelo classificador."
   ]
  },
  {
   "cell_type": "code",
   "execution_count": 20,
   "metadata": {},
   "outputs": [],
   "source": [
    "classificacao = ['outro','rap']\n",
    "\n",
    "# Extraindo uma árvore de decisão\n",
    "estimator = clf_random.estimators_[5]\n",
    "\n",
    "from sklearn.tree import export_graphviz\n",
    "# Exportando o documento .dot \n",
    "export_graphviz(estimator, out_file='classificacao.dot', \n",
    "                feature_names = X_train.columns,\n",
    "                class_names = classificacao,\n",
    "                rounded = True, proportion = False, \n",
    "                precision = 2, filled = True)\n",
    "\n",
    "#Gerou o documento 'classificacao.dot' "
   ]
  },
  {
   "cell_type": "markdown",
   "metadata": {},
   "source": [
    "Após criar esse documento, realizamos a conversão no site: https://dreampuf.github.io/GraphvizOnline/ e geramos a seguinte imagem: "
   ]
  },
  {
   "cell_type": "markdown",
   "metadata": {},
   "source": [
    "   <img src=\"Decision_tree_random.png\" width=\"486\">"
   ]
  },
  {
   "cell_type": "markdown",
   "metadata": {},
   "source": [
    "Como se vê, o exemplo dessa árvore mostra inclusive uma das variáveis mais importantes para a classificação e que mostraram as maiores diferenças entre 'rap' e outros gêneros, que são a variável de explicitabilidade e a variável 'speechiness'."
   ]
  },
  {
   "cell_type": "markdown",
   "metadata": {},
   "source": [
    "## 4 ) Aplicação da técnica: '' Regressão Logística\"\n",
    "\n",
    "Após implementar a técnica para classificação conhecida como 'Random Forest', vamos agora aplicar uma outra chamada de 'regressão logística', que é uma técnica capaz de estimar a probabilidade relacionada à ocorrência de um evento, tendo um conjunto de variáveis explanatórias. E, os resultados dessa análise ficam em um intervalo de 0 a 1.   "
   ]
  },
  {
   "cell_type": "markdown",
   "metadata": {},
   "source": [
    "### [4.1] Treinamento do classificador e resultado:\n",
    "\n",
    "Já que as modificações necessárias para o DataFrame já foram feitas para a classificação acima, começamos treinando nosso classificador e para isso fizemos uso da biblioteca: 'LogisticRegression' do `scikit.learn`. Após treinar nosso classificador, pedimos para que aplicasse a técnica no DataFrame de teste para verificar sua acurácia. "
   ]
  },
  {
   "cell_type": "code",
   "execution_count": 21,
   "metadata": {},
   "outputs": [
    {
     "data": {
      "text/plain": [
       "LogisticRegression(C=1.0, class_weight=None, dual=False, fit_intercept=True,\n",
       "                   intercept_scaling=1, l1_ratio=None, max_iter=100,\n",
       "                   multi_class='auto', n_jobs=None, penalty='l2',\n",
       "                   random_state=0, solver='lbfgs', tol=0.0001, verbose=0,\n",
       "                   warm_start=False)"
      ]
     },
     "execution_count": 21,
     "metadata": {},
     "output_type": "execute_result"
    }
   ],
   "source": [
    "#Treinando nosso classificador com a técnica de regressão logística. \n",
    "\n",
    "clf_log = LogisticRegression(random_state=0).fit(X_train, y_train)\n",
    "clf_log"
   ]
  },
  {
   "cell_type": "code",
   "execution_count": 22,
   "metadata": {},
   "outputs": [
    {
     "data": {
      "text/plain": [
       "0.8561527581329561"
      ]
     },
     "execution_count": 22,
     "metadata": {},
     "output_type": "execute_result"
    }
   ],
   "source": [
    "#Aplicando essa técnica no DataFrame para verificar sua performance. \n",
    "\n",
    "clf_log.score(X_test, y_test)"
   ]
  },
  {
   "cell_type": "markdown",
   "metadata": {},
   "source": [
    "Após ter o resultado da acurácia do modelo de regressão logística, também é necessário verificar a fundo como de fato foi feita essa classificação, e isso pode ser feito mais uma vez pela matriz de confusão, que se encontra abaixo:"
   ]
  },
  {
   "cell_type": "code",
   "execution_count": 23,
   "metadata": {},
   "outputs": [
    {
     "data": {
      "text/plain": [
       "array([[5980,   96],\n",
       "       [ 921,   73]], dtype=int64)"
      ]
     },
     "execution_count": 23,
     "metadata": {},
     "output_type": "execute_result"
    }
   ],
   "source": [
    "# plotando matriz de confusão.\n",
    "\n",
    "y_true = y_test\n",
    "y_pred = clf_log.predict(X_test)\n",
    "matriz_log = confusion_matrix(y_true, y_pred)\n",
    "matriz_log"
   ]
  },
  {
   "cell_type": "markdown",
   "metadata": {},
   "source": [
    "Como observado, o número de verdadeiros positivos é de 5980, e o número de verdadeiros negativos é 73. Enquanto que o número de falsos positivos é 96 e o número de falsos negativos é 921."
   ]
  },
  {
   "cell_type": "markdown",
   "metadata": {},
   "source": [
    "## 5 ) Aplicação da técnica: '' Árvore de decisão\"\n",
    "\n",
    "Agora iremos aplicar uma outra técnica um tanto quanto parecida com a técnica do 'Random Forest', que é a 'Decision Tree' ('árvores de decisão'). A diferença entre a 'Random Forest' e a 'Árvore de decisão', é que a primeira técnica citada não utiliza uma, mas sim várias árvores de decisão. E o que é uma árvore de decisão? Podemos dizer que ela é um mapa dos possíveis resultados de várias escolhas associadas. Uma árvore de decisão geralmente começa com um nó, que vai se ramificando, ou seja, que vai gerando vários resultados e probabilidades e que no fim conduzem a uma possível decisão a ser tomada. "
   ]
  },
  {
   "cell_type": "markdown",
   "metadata": {},
   "source": [
    "### [5.1] Treinamento do classificador e resultado:\n",
    "\n",
    "Do mesmo modo que foi feito acima, começamos treinando nosso classificador e para isso fizemos uso mais uma vez de uma biblioteca do `scikit.learn`, a 'tree'. Após treinar nosso classificador, pedimos para que aplicasse a técnica no DataFrame de teste para verificar por fim a sua eficácia. "
   ]
  },
  {
   "cell_type": "code",
   "execution_count": 24,
   "metadata": {},
   "outputs": [
    {
     "data": {
      "text/plain": [
       "DecisionTreeClassifier(ccp_alpha=0.0, class_weight=None, criterion='gini',\n",
       "                       max_depth=None, max_features=None, max_leaf_nodes=None,\n",
       "                       min_impurity_decrease=0.0, min_impurity_split=None,\n",
       "                       min_samples_leaf=1, min_samples_split=2,\n",
       "                       min_weight_fraction_leaf=0.0, presort='deprecated',\n",
       "                       random_state=None, splitter='best')"
      ]
     },
     "execution_count": 24,
     "metadata": {},
     "output_type": "execute_result"
    }
   ],
   "source": [
    "#Treinando nosso classificador com a técnica de árvore de decisão. \n",
    "\n",
    "X = X_train\n",
    "Y = y_train\n",
    "clf_tree = tree.DecisionTreeClassifier()\n",
    "clf_tree = clf_tree.fit(X, Y)\n",
    "clf_tree"
   ]
  },
  {
   "cell_type": "code",
   "execution_count": 25,
   "metadata": {},
   "outputs": [
    {
     "data": {
      "text/plain": [
       "0.9035360678925035"
      ]
     },
     "execution_count": 25,
     "metadata": {},
     "output_type": "execute_result"
    }
   ],
   "source": [
    "#Aplicando essa técnica no DataFrame para verificar sua performance. \n",
    "\n",
    "clf_tree.score(X_test,y_test)"
   ]
  },
  {
   "cell_type": "code",
   "execution_count": 26,
   "metadata": {},
   "outputs": [
    {
     "data": {
      "text/plain": [
       "array([[5720,  356],\n",
       "       [ 326,  668]], dtype=int64)"
      ]
     },
     "execution_count": 26,
     "metadata": {},
     "output_type": "execute_result"
    }
   ],
   "source": [
    "# plotando a matriz de confusao\n",
    "\n",
    "y_true = y_test\n",
    "y_pred = clf_tree.predict(X_test)\n",
    "matriz_tree = confusion_matrix(y_true, y_pred)\n",
    "matriz_tree"
   ]
  },
  {
   "cell_type": "markdown",
   "metadata": {},
   "source": [
    "Mais uma vez, depois de verificar o 'score' do modelo, plotamos também a matriz de confusão. Essa apresentou um resultado de 5717 verdadeiros positivos, 667 verdadeiros negativos, 359 falsos positivos e 327 falsos negativos."
   ]
  },
  {
   "cell_type": "markdown",
   "metadata": {},
   "source": [
    "## 6 ) Análise dos resultados\n",
    "\n",
    "Agora, vamos analisar mais a fundo os resultados obtidos anteriormente nas três técnicas diferentes que foram executadas. \n"
   ]
  },
  {
   "cell_type": "markdown",
   "metadata": {},
   "source": [
    "### [6.1] Descrição das medidas de análise:\n"
   ]
  },
  {
   "cell_type": "markdown",
   "metadata": {},
   "source": [
    "Para avaliar o desempenho de nossos classificadores, utilizamos acima a função `.score()` do `scikit.learn` que serve para sabermos se o nosso modelo conseguirá realizar a classificação com dados que ele nunca viu, tendo sido treinado com outros dados. Para executar essa função tivemos que primeiro treinar nosso classificador com os dados de treinamento, só depois executar a função que verifica o número que o modelo previu com o valor esperado dos dados de teste. Como resultado, temos um número entre 0.0 e 1.0, sendo que quanto mais próximo o número for de 1.0 melhor.    \n",
    "\n",
    "Porém, não se deve realizar a análise dos resultados apenas através da função `.score()`, pois embora ela mostre a acurácia do modelo, há também outras medidas muito importantes e de igual significância que devem ser levadas em consideração. Foi para isso, que para cada técnica de classificação aplicada, plotamos também a matriz de confusão. Essa, como dito acima, fornece a quantidade de falsos positivos e falsos negativos, bem como a quantidade de verdadeiros positivos e verdadeiros negativos. Além disso, por meio dela é possível calcular essas outras importantes medidas que são a sensibilidade e a especificidade do modelo.\n",
    "\n",
    "A distribuição dos verdadeiros positivos, negativos e falsos positivos e negativos, encontra-se na figura abaixo:\n",
    "\n",
    "   <img src=\"tabela_excel.jpg\" width=\"486\">\n",
    "\n",
    "A 'sensibilidade' representa a proporcionalidade de verdadeiros positivos, e para calculá-la basta dividir o número da primeira linha e da primeira coluna da matriz pelo total dos casos que seriam positivos (a soma da primeira linha e primeira coluna com a segunda linha e primeira coluna da matriz).\n",
    "\n",
    "Já a 'especificidade' expressa a proporção de casos negativos identificados corretamente. O cálculo dessa medida é feito através da divisão dos verdadeiros negativos pelo seu total (a soma da primeira linha e segunda coluna com a segunda linha e segunda coluna). \n",
    "\n",
    "Por fim, a 'acurácia', já calculada pelo `.score()`, representa a proporção de casos que foram previstos corretamente, isto é, a soma de verdadeiros positivos e verdadeiros negativos divididos pelo total. \n",
    "\n"
   ]
  },
  {
   "cell_type": "markdown",
   "metadata": {},
   "source": [
    "### [6.2] Análise do primeiro modelo: 'Random Forest'\n",
    "\n",
    " "
   ]
  },
  {
   "cell_type": "markdown",
   "metadata": {},
   "source": [
    "A primeira técnica implementada em nossa base de testes foi a 'Random Forest', e essa técnica obteve uma acurácia de `0.9383309759547384`, o que a príncipio é muito boa, sendo inclusive a maior acurácia obtida dentre as técnicas aplicadas. Porém, como visto anteriormente, a análise de uma técnica não para apenas na acurácia, e por isso, foram calculadas a sensibilidade e a especificidade do modelo. Os valores obtidos encontram-se abaixo: \n"
   ]
  },
  {
   "cell_type": "code",
   "execution_count": 27,
   "metadata": {},
   "outputs": [
    {
     "name": "stdout",
     "output_type": "stream",
     "text": [
      "A sensibilidade da técnica Random Forest é de: 0.9493307839388145\n",
      "A especificidade da técnica Random Forest é de: 0.8513853904282116\n"
     ]
    }
   ],
   "source": [
    "# cálculo da sensibilidade e especificidade da 'Random Forest'\n",
    "\n",
    "sensibilidade_random = matriz_random[0,0]/ (matriz_random[0,0] + matriz_random[1,0])\n",
    "especificidade_random = matriz_random[1,1]/ (matriz_random[0,1] + matriz_random[1,1])\n",
    "\n",
    "print('A sensibilidade da técnica Random Forest é de: {0}'.format(sensibilidade_random))\n",
    "print('A especificidade da técnica Random Forest é de: {0}'.format(especificidade_random))"
   ]
  },
  {
   "cell_type": "markdown",
   "metadata": {},
   "source": [
    "Como visto nos resultados calculados, além de uma boa acurácia, esta técnica demostrou também uma boa sensibilidade e uma boa especificidade, já que seus valores obtidos foram bem próximos de 1.0, ou seja, o programa identificou muito bem os casos em que a música pertencia ao gênero rap e os casos que pertencia aos outros gêneros.  "
   ]
  },
  {
   "cell_type": "markdown",
   "metadata": {},
   "source": [
    "### [6.2] Análise do segundo modelo: 'Regressão Logística'"
   ]
  },
  {
   "cell_type": "markdown",
   "metadata": {},
   "source": [
    "Já a segunda técnica aplicada foi a de regressão logística, que obteve uma acurácia de `0.8561527581329561`, que por sua vez foi a menor acurácia dentre as técnicas utilizadas, embora não deixe de ser uma valor consideravelmente razoável. Agora, vamos analisar sua sensibilidade e especificidade:  \n",
    " "
   ]
  },
  {
   "cell_type": "code",
   "execution_count": 28,
   "metadata": {},
   "outputs": [
    {
     "name": "stdout",
     "output_type": "stream",
     "text": [
      "A sensibilidade da técnica de Regressão Logística é de: 0.8665410810027532\n",
      "A especificidade da técnica de Regressão Logística é de: 0.4319526627218935\n"
     ]
    }
   ],
   "source": [
    "# cálculo da sensibilidade e especificidade da 'Regressão Logística'\n",
    "\n",
    "sensibilidade_log = matriz_log[0,0]/ (matriz_log[0,0] + matriz_log[1,0])\n",
    "especificidade_log = matriz_log[1,1]/ (matriz_log[0,1] + matriz_log[1,1])\n",
    "\n",
    "print('A sensibilidade da técnica de Regressão Logística é de: {0}'.format(sensibilidade_log))\n",
    "print('A especificidade da técnica de Regressão Logística é de: {0}'.format(especificidade_log))"
   ]
  },
  {
   "cell_type": "markdown",
   "metadata": {},
   "source": [
    "Comparando os resultados obtidos nesse modelo com o anterior, precebe-se uma grande diferença na especificidade que apresentou um desempenho ruim, sendo mais próximo de 0.0 do que de 1.0, ou seja, embora o programa tenha identificado bem os casos em que a música era 'rap', não conseguiu identificar bem os casos em que a música pertencia à outros gêneros. Portanto, ainda que tenha tido uma acurácia boa, esse modelo apresenta falhas que podem comprometer bastante a análise de outros possíveis bancos de dados relacionados."
   ]
  },
  {
   "cell_type": "markdown",
   "metadata": {},
   "source": [
    "### [6.3] Análise do terceiro modelo: 'Árvore de decisão'"
   ]
  },
  {
   "cell_type": "markdown",
   "metadata": {},
   "source": [
    "Por fim, a última técnica implementada foi a de árvore de decisão, que por sua vez obteve uma acurácia de `0.902970297029703`, ficando essa no meio dentre as outras acurácias obtidas. Em termos de sensibilidade e especificidade, estes foram os valores calculados: "
   ]
  },
  {
   "cell_type": "code",
   "execution_count": 29,
   "metadata": {},
   "outputs": [
    {
     "name": "stdout",
     "output_type": "stream",
     "text": [
      "A sensibilidade da técnica de Árvore de Decisão é de: 0.9460800529275554\n",
      "A especificidade da técnica de Árvore de Decisão é de: 0.65234375\n"
     ]
    }
   ],
   "source": [
    "# cálculo da sensibilidade e especificidade da 'Árvore de Decisão'\n",
    "\n",
    "sensibilidade_tree = matriz_tree[0,0]/ (matriz_tree[0,0] + matriz_tree[1,0])\n",
    "especificidade_tree = matriz_tree[1,1]/ (matriz_tree[0,1] + matriz_tree[1,1])\n",
    "\n",
    "print('A sensibilidade da técnica de Árvore de Decisão é de: {0}'.format(sensibilidade_tree))\n",
    "print('A especificidade da técnica de Árvore de Decisão é de: {0}'.format(especificidade_tree))"
   ]
  },
  {
   "cell_type": "markdown",
   "metadata": {},
   "source": [
    "Em relação aos resultados obtidos, percebe-se que o valor de sensibilidade desse modelo foi muito próximo da sensibilidade obtida no 'Random Forest', com uma diferença mínima, sendo a sensibilidade do 'Random Forest' um pouco melhor, o que indica que ambos classificaram muito bem quando as músicas pertenciam ao gênero 'rap'. Porém, ao analisar sua especificidade, percebe-se que o resultado obtido foi próximo da média, o que mostra que o classificador não conseguiu analisar bem as músicas que pertenciam à outros gêneros.  "
   ]
  },
  {
   "cell_type": "markdown",
   "metadata": {},
   "source": [
    "### [6.4] Todos os resultados"
   ]
  },
  {
   "cell_type": "markdown",
   "metadata": {},
   "source": [
    "Com todos os dados de especificidade, sensibilidade e acurácia montamos uma tabela para demonstração dos três modelos. Encontra-se abaixo:\n",
    "\n",
    "   <img src=\"tabela_matriz_confusao.png\" width=\"486\">\n"
   ]
  },
  {
   "cell_type": "markdown",
   "metadata": {},
   "source": [
    "## 7 ) Conclusão : a técnica de melhor desempenho"
   ]
  },
  {
   "cell_type": "markdown",
   "metadata": {},
   "source": [
    "Para o nosso objetivo, que era conseguir classificar corretamente as músicas que pertenciam ao gênero 'rap', de modo a realizar uma boa distinção dos outros gêneros, nota-se que a técnica que apresentou melhor acurácia, melhor sensibilidade e melhor especificidade foi a técnica 'Random Forest'. "
   ]
  },
  {
   "cell_type": "markdown",
   "metadata": {},
   "source": [
    "Essa técnica inclusive é amplamente utilizada, pois pode realizar classificações tanto para regressão quanto para classificação. Além disso, o algoritmo desse modelo adiciona uma aleatoriedade extra quando está criando as árvores. Assim, ao invés de procurar pela melhor característica quando está dividindo os nós, como ocorre nas árvores de decisão, ele busca a característica de maior significância em um subconjunto aleatório, o que por sua vez resulta em maior diversidade e gera modelos mais precisos.  Isso explica o porquê no caso analisado, a técnica 'Random Forest' apresentou maior desempenho. Com os 10 features que compuseram nosso treinador, a maior variabilidade trouxe consigo maior precisão para classificar de acordo com o nosso target. Assim, como no ditado popular, juntas, as florestas de árvores aleatórias são mais fortes. \n",
    "\n",
    "Além disso, a 'Random Forest' é uma técnica não tão afetada por dados discrepantes e apresenta um algoritmo estável, o que faz com que introduzir um novo dado não afete muito os resultados, uma vantagem em relação às 'Ávores de decisão', já que embora demandem menor esforço no preparo dos dados no período de pré-processamento e seja um modelo mais fácil para explicar, a modificação de poucas coisas nos dados pode acarretar mudanças nas estruturas que pode comprometer a análise. "
   ]
  },
  {
   "cell_type": "markdown",
   "metadata": {},
   "source": [
    "Em relação a técnica de regressão logística, pode-se afirmar que essa técnica não assume nenhuma distribuição ou importância de classes, além de ser muito boa para 'DataSets' simples quando os dados são linearmente separáveis, o que não foi o caso do DataSet do trabalho. Além disso, esse modelo em geral tem maior facilidade de lidar com variáveis categóricas, o que pode ter atrapalhado um pouco o treinamento do classificador, já que apenas dois de nossos features eram categóricas, enquanto a maioria eram features numéricas. \n"
   ]
  },
  {
   "cell_type": "markdown",
   "metadata": {},
   "source": [
    "Portanto, conclui-se que para o nosso caso em específico, o melhor modelo foi o 'Random Forest'. Já que com as dez features, conseguiu atribuir importâncias àqueles que tinham grande diferença em relação á outros gêneros musicais e que com as várias 'florestas de probabilidades' geradas conseguiu selecionar as melhores."
   ]
  },
  {
   "cell_type": "markdown",
   "metadata": {},
   "source": [
    "## 8 ) Referências"
   ]
  },
  {
   "cell_type": "markdown",
   "metadata": {},
   "source": [
    "VASCONCELLOS, Paulo. 'Como saber se seu modelo de Machine Learning está funcionando mesmo'. Disponível em : <https://paulovasconcellos.com.br/como-saber-se-seu-modelo-de-machine-learning-est%C3%A1-funcionando-mesmo-a5892f6468b>. Acesso em 24/11/2020;\n",
    "\n",
    "MARCIANO, Carlos Eduardo e DAVIM, João Victor. 'Modelos Preditivos de Notas de Redação do ENEM 2015'. Disponível em : <https://ensinandomaquinasblog.wordpress.com/2017/12/15/modelos-preditivos-de-notas-de-redacao-do-enem-2015/>. Acesso em 24/10/2020;\n",
    "\n",
    "KUMAR, Naresh. 'Advantages and Disadvantages of Random Forest Algorithm in Machine Learning'. Disponível em: <https://theprofessionalspoint.blogspot.com/2019/02/advantages-and-disadvantages-of-random.html>. Acesso em 24/10/2020;\n",
    "\n",
    "ROUT, Amiya Ranjan. 'Advantages and Disadvantages of Logistic Regression'. Disponível em: <https://www.geeksforgeeks.org/advantages-and-disadvantages-of-logistic-regression/#:~:text=Logistic%20regression%20is%20easier%20to,of%20classes%20in%20feature%20space>. Acesso em 24/10/2020;\n",
    "\n",
    "SPOTIFY. 'Get Audio Features for a Track'. Disponível em : <https://developer.spotify.com/documentation/web-api/reference/tracks/get-audio-features/>. Acesso em 24/10/2020.\n",
    "\n"
   ]
  },
  {
   "cell_type": "code",
   "execution_count": null,
   "metadata": {},
   "outputs": [],
   "source": []
  }
 ],
 "metadata": {
  "kernelspec": {
   "display_name": "Python 3",
   "language": "python",
   "name": "python3"
  },
  "language_info": {
   "codemirror_mode": {
    "name": "ipython",
    "version": 3
   },
   "file_extension": ".py",
   "mimetype": "text/x-python",
   "name": "python",
   "nbconvert_exporter": "python",
   "pygments_lexer": "ipython3",
   "version": "3.7.4"
  }
 },
 "nbformat": 4,
 "nbformat_minor": 2
}
